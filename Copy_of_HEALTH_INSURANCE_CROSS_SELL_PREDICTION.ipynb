{
  "nbformat": 4,
  "nbformat_minor": 0,
  "metadata": {
    "colab": {
      "name": "Copy_of_HEALTH_INSURANCE_CROSS_SELL_PREDICTION.ipynb",
      "provenance": [],
      "collapsed_sections": [
        "MCf5AfhtA2ki",
        "HG8qNuz2KJRb",
        "5EpnkV2WfN4j",
        "62e9q1eqginm"
      ],
      "include_colab_link": true
    },
    "kernelspec": {
      "display_name": "Python 3",
      "name": "python3"
    },
    "language_info": {
      "name": "python"
    }
  },
  "cells": [
    {
      "cell_type": "markdown",
      "metadata": {
        "id": "view-in-github",
        "colab_type": "text"
      },
      "source": [
        "<a href=\"https://colab.research.google.com/github/Aehteshaam-Shaikh/Health-Insurance-Cross-Sell-Production/blob/main/Copy_of_HEALTH_INSURANCE_CROSS_SELL_PREDICTION.ipynb\" target=\"_parent\"><img src=\"https://colab.research.google.com/assets/colab-badge.svg\" alt=\"Open In Colab\"/></a>"
      ]
    },
    {
      "cell_type": "markdown",
      "metadata": {
        "id": "LGcl5Bv9ed6u"
      },
      "source": [
        "# **Problem Statement**"
      ]
    },
    {
      "cell_type": "markdown",
      "metadata": {
        "id": "jJAmGx75jJk1"
      },
      "source": [
        "Our client is an Insurance company that has provided Health Insurance to its customers now they need your help in building a model to predict whether the policyholders (customers) from past year will also be interested in Vehicle Insurance provided by the company.\n",
        "\n",
        "An insurance policy is an arrangement by which a company undertakes to provide a guarantee of compensation for specified loss, damage, illness, or death in return for the payment of a specified premium. A premium is a sum of money that the customer needs to pay regularly to an insurance company for this guarantee.\n",
        "\n",
        "For example, you may pay a premium of Rs. 5000 each year for a health insurance cover of Rs. 200,000/- so that if, God forbid, you fall ill and need to be hospitalised in that year, the insurance provider company will bear the cost of hospitalisation etc. for upto Rs. 200,000. Now if you are wondering how can company bear such high hospitalisation cost when it charges a premium of only Rs. 5000/-, that is where the concept of probabilities comes in picture. For example, like you, there may be 100 customers who would be paying a premium of Rs. 5000 every year, but only a few of them (say 2-3) would get hospitalised that year and not everyone. This way everyone shares the risk of everyone else.\n",
        "\n",
        "Just like medical insurance, there is vehicle insurance where every year customer needs to pay a premium of certain amount to insurance provider company so that in case of unfortunate accident by the vehicle, the insurance provider company will provide a compensation (called ‘sum assured’) to the customer.\n",
        "\n",
        "Building a model to predict whether a customer would be interested in Vehicle Insurance is extremely helpful for the company because it can then accordingly plan its communication strategy to reach out to those customers and optimise its business model and revenue.\n",
        "\n",
        "Now, in order to predict, whether the customer would be interested in Vehicle insurance, you have information about demographics (gender, age, region code type), Vehicles (Vehicle Age, Damage), Policy (Premium, sourcing channel) etc."
      ]
    },
    {
      "cell_type": "markdown",
      "metadata": {
        "id": "AzGDqdC4fZ-b"
      },
      "source": [
        "# **Attribute Information**"
      ]
    },
    {
      "cell_type": "markdown",
      "metadata": {
        "id": "oEJxl68MjYbs"
      },
      "source": [
        "1. id :\tUnique ID for the customer\n",
        "\n",
        "2. Gender\t: Gender of the customer\n",
        "\n",
        "3. Age :\tAge of the customer\n",
        "\n",
        "4. Driving_License\t0 : Customer does not have DL, 1 : Customer already has DL\n",
        "\n",
        "5. Region_Code :\tUnique code for the region of the customer\n",
        "\n",
        "6. Previously_Insured\t: 1 : Customer already has Vehicle Insurance, 0 : Customer doesn't have Vehicle Insurance\n",
        "\n",
        "7. Vehicle_Age :\tAge of the Vehicle\n",
        "\n",
        "8. Vehicle_Damage\t :1 : Customer got his/her vehicle damaged in the past. 0 : Customer didn't get his/her vehicle damaged in the past.\n",
        "\n",
        "9. Annual_Premium\t: The amount customer needs to pay as premium in the year\n",
        "\n",
        "10. PolicySalesChannel :\tAnonymized Code for the channel of outreaching to the customer ie. Different Agents, Over Mail, Over Phone, In Person, etc.\n",
        "\n",
        "11. Vintage :\tNumber of Days, Customer has been associated with the company\n",
        "\n",
        "12. Response :\t1 : Customer is interested, 0 : Customer is not interested"
      ]
    },
    {
      "cell_type": "code",
      "metadata": {
        "colab": {
          "base_uri": "https://localhost:8080/"
        },
        "id": "pG0SGIgolNmK",
        "outputId": "dcb83dc5-e126-410d-85e8-0d7a3403aade"
      },
      "source": [
        "# Mounting the Drive\n",
        "from google.colab import drive\n",
        "drive.mount('/content/drive')"
      ],
      "execution_count": null,
      "outputs": [
        {
          "name": "stdout",
          "output_type": "stream",
          "text": [
            "Mounted at /content/drive\n"
          ]
        }
      ]
    },
    {
      "cell_type": "code",
      "metadata": {
        "id": "7w02V-ZGl9Ei"
      },
      "source": [
        "# importing the necessary libraries\n",
        "\n",
        "import numpy as np\n",
        "import pandas as pd\n",
        "import matplotlib.pyplot as plt\n",
        "%matplotlib inline\n",
        "import seaborn as sns\n",
        "\n",
        "from sklearn.model_selection import train_test_split\n",
        "from sklearn.linear_model import LogisticRegression\n",
        "from sklearn.metrics import precision_score,recall_score,accuracy_score,f1_score,confusion_matrix,roc_auc_score,classification_report\n",
        "from sklearn.ensemble import RandomForestClassifier\n",
        "from xgboost import XGBClassifier\n",
        "from sklearn.model_selection import GridSearchCV\n",
        "from sklearn.model_selection import RandomizedSearchCV\n",
        "\n",
        "import warnings\n",
        "warnings.filterwarnings('ignore')"
      ],
      "execution_count": 62,
      "outputs": []
    },
    {
      "cell_type": "code",
      "metadata": {
        "id": "HkbXI3mRlai6"
      },
      "source": [
        "# importing the dataset\n",
        "health_df = pd.read_csv('/content/drive/MyDrive/Health Insurance Cross Sell Prediction - Aehteshaam Shaikh/TRAIN-HEALTH INSURANCE CROSS SELL PREDICTION.csv')"
      ],
      "execution_count": 63,
      "outputs": []
    },
    {
      "cell_type": "code",
      "metadata": {
        "colab": {
          "base_uri": "https://localhost:8080/",
          "height": 444
        },
        "id": "aOHzIF6ym5Hm",
        "outputId": "cbbaf81c-4eda-445a-ff97-129a0e1b0acc"
      },
      "source": [
        "# Let's see how the dataset looks like\n",
        "health_df"
      ],
      "execution_count": 3,
      "outputs": [
        {
          "output_type": "execute_result",
          "data": {
            "text/html": [
              "<div>\n",
              "<style scoped>\n",
              "    .dataframe tbody tr th:only-of-type {\n",
              "        vertical-align: middle;\n",
              "    }\n",
              "\n",
              "    .dataframe tbody tr th {\n",
              "        vertical-align: top;\n",
              "    }\n",
              "\n",
              "    .dataframe thead th {\n",
              "        text-align: right;\n",
              "    }\n",
              "</style>\n",
              "<table border=\"1\" class=\"dataframe\">\n",
              "  <thead>\n",
              "    <tr style=\"text-align: right;\">\n",
              "      <th></th>\n",
              "      <th>id</th>\n",
              "      <th>Gender</th>\n",
              "      <th>Age</th>\n",
              "      <th>Driving_License</th>\n",
              "      <th>Region_Code</th>\n",
              "      <th>Previously_Insured</th>\n",
              "      <th>Vehicle_Age</th>\n",
              "      <th>Vehicle_Damage</th>\n",
              "      <th>Annual_Premium</th>\n",
              "      <th>Policy_Sales_Channel</th>\n",
              "      <th>Vintage</th>\n",
              "      <th>Response</th>\n",
              "    </tr>\n",
              "  </thead>\n",
              "  <tbody>\n",
              "    <tr>\n",
              "      <th>0</th>\n",
              "      <td>1</td>\n",
              "      <td>Male</td>\n",
              "      <td>44</td>\n",
              "      <td>1</td>\n",
              "      <td>28.0</td>\n",
              "      <td>0</td>\n",
              "      <td>&gt; 2 Years</td>\n",
              "      <td>Yes</td>\n",
              "      <td>40454.0</td>\n",
              "      <td>26.0</td>\n",
              "      <td>217</td>\n",
              "      <td>1</td>\n",
              "    </tr>\n",
              "    <tr>\n",
              "      <th>1</th>\n",
              "      <td>2</td>\n",
              "      <td>Male</td>\n",
              "      <td>76</td>\n",
              "      <td>1</td>\n",
              "      <td>3.0</td>\n",
              "      <td>0</td>\n",
              "      <td>1-2 Year</td>\n",
              "      <td>No</td>\n",
              "      <td>33536.0</td>\n",
              "      <td>26.0</td>\n",
              "      <td>183</td>\n",
              "      <td>0</td>\n",
              "    </tr>\n",
              "    <tr>\n",
              "      <th>2</th>\n",
              "      <td>3</td>\n",
              "      <td>Male</td>\n",
              "      <td>47</td>\n",
              "      <td>1</td>\n",
              "      <td>28.0</td>\n",
              "      <td>0</td>\n",
              "      <td>&gt; 2 Years</td>\n",
              "      <td>Yes</td>\n",
              "      <td>38294.0</td>\n",
              "      <td>26.0</td>\n",
              "      <td>27</td>\n",
              "      <td>1</td>\n",
              "    </tr>\n",
              "    <tr>\n",
              "      <th>3</th>\n",
              "      <td>4</td>\n",
              "      <td>Male</td>\n",
              "      <td>21</td>\n",
              "      <td>1</td>\n",
              "      <td>11.0</td>\n",
              "      <td>1</td>\n",
              "      <td>&lt; 1 Year</td>\n",
              "      <td>No</td>\n",
              "      <td>28619.0</td>\n",
              "      <td>152.0</td>\n",
              "      <td>203</td>\n",
              "      <td>0</td>\n",
              "    </tr>\n",
              "    <tr>\n",
              "      <th>4</th>\n",
              "      <td>5</td>\n",
              "      <td>Female</td>\n",
              "      <td>29</td>\n",
              "      <td>1</td>\n",
              "      <td>41.0</td>\n",
              "      <td>1</td>\n",
              "      <td>&lt; 1 Year</td>\n",
              "      <td>No</td>\n",
              "      <td>27496.0</td>\n",
              "      <td>152.0</td>\n",
              "      <td>39</td>\n",
              "      <td>0</td>\n",
              "    </tr>\n",
              "    <tr>\n",
              "      <th>...</th>\n",
              "      <td>...</td>\n",
              "      <td>...</td>\n",
              "      <td>...</td>\n",
              "      <td>...</td>\n",
              "      <td>...</td>\n",
              "      <td>...</td>\n",
              "      <td>...</td>\n",
              "      <td>...</td>\n",
              "      <td>...</td>\n",
              "      <td>...</td>\n",
              "      <td>...</td>\n",
              "      <td>...</td>\n",
              "    </tr>\n",
              "    <tr>\n",
              "      <th>381104</th>\n",
              "      <td>381105</td>\n",
              "      <td>Male</td>\n",
              "      <td>74</td>\n",
              "      <td>1</td>\n",
              "      <td>26.0</td>\n",
              "      <td>1</td>\n",
              "      <td>1-2 Year</td>\n",
              "      <td>No</td>\n",
              "      <td>30170.0</td>\n",
              "      <td>26.0</td>\n",
              "      <td>88</td>\n",
              "      <td>0</td>\n",
              "    </tr>\n",
              "    <tr>\n",
              "      <th>381105</th>\n",
              "      <td>381106</td>\n",
              "      <td>Male</td>\n",
              "      <td>30</td>\n",
              "      <td>1</td>\n",
              "      <td>37.0</td>\n",
              "      <td>1</td>\n",
              "      <td>&lt; 1 Year</td>\n",
              "      <td>No</td>\n",
              "      <td>40016.0</td>\n",
              "      <td>152.0</td>\n",
              "      <td>131</td>\n",
              "      <td>0</td>\n",
              "    </tr>\n",
              "    <tr>\n",
              "      <th>381106</th>\n",
              "      <td>381107</td>\n",
              "      <td>Male</td>\n",
              "      <td>21</td>\n",
              "      <td>1</td>\n",
              "      <td>30.0</td>\n",
              "      <td>1</td>\n",
              "      <td>&lt; 1 Year</td>\n",
              "      <td>No</td>\n",
              "      <td>35118.0</td>\n",
              "      <td>160.0</td>\n",
              "      <td>161</td>\n",
              "      <td>0</td>\n",
              "    </tr>\n",
              "    <tr>\n",
              "      <th>381107</th>\n",
              "      <td>381108</td>\n",
              "      <td>Female</td>\n",
              "      <td>68</td>\n",
              "      <td>1</td>\n",
              "      <td>14.0</td>\n",
              "      <td>0</td>\n",
              "      <td>&gt; 2 Years</td>\n",
              "      <td>Yes</td>\n",
              "      <td>44617.0</td>\n",
              "      <td>124.0</td>\n",
              "      <td>74</td>\n",
              "      <td>0</td>\n",
              "    </tr>\n",
              "    <tr>\n",
              "      <th>381108</th>\n",
              "      <td>381109</td>\n",
              "      <td>Male</td>\n",
              "      <td>46</td>\n",
              "      <td>1</td>\n",
              "      <td>29.0</td>\n",
              "      <td>0</td>\n",
              "      <td>1-2 Year</td>\n",
              "      <td>No</td>\n",
              "      <td>41777.0</td>\n",
              "      <td>26.0</td>\n",
              "      <td>237</td>\n",
              "      <td>0</td>\n",
              "    </tr>\n",
              "  </tbody>\n",
              "</table>\n",
              "<p>381109 rows × 12 columns</p>\n",
              "</div>"
            ],
            "text/plain": [
              "            id  Gender  Age  ...  Policy_Sales_Channel  Vintage  Response\n",
              "0            1    Male   44  ...                  26.0      217         1\n",
              "1            2    Male   76  ...                  26.0      183         0\n",
              "2            3    Male   47  ...                  26.0       27         1\n",
              "3            4    Male   21  ...                 152.0      203         0\n",
              "4            5  Female   29  ...                 152.0       39         0\n",
              "...        ...     ...  ...  ...                   ...      ...       ...\n",
              "381104  381105    Male   74  ...                  26.0       88         0\n",
              "381105  381106    Male   30  ...                 152.0      131         0\n",
              "381106  381107    Male   21  ...                 160.0      161         0\n",
              "381107  381108  Female   68  ...                 124.0       74         0\n",
              "381108  381109    Male   46  ...                  26.0      237         0\n",
              "\n",
              "[381109 rows x 12 columns]"
            ]
          },
          "metadata": {},
          "execution_count": 3
        }
      ]
    },
    {
      "cell_type": "code",
      "metadata": {
        "colab": {
          "base_uri": "https://localhost:8080/"
        },
        "id": "o5Qs0mu3m87x",
        "outputId": "a0a58bb8-00a0-442f-96cf-4555f9093371"
      },
      "source": [
        "# basic information about the dataset\n",
        "health_df.info()"
      ],
      "execution_count": 4,
      "outputs": [
        {
          "output_type": "stream",
          "name": "stdout",
          "text": [
            "<class 'pandas.core.frame.DataFrame'>\n",
            "RangeIndex: 381109 entries, 0 to 381108\n",
            "Data columns (total 12 columns):\n",
            " #   Column                Non-Null Count   Dtype  \n",
            "---  ------                --------------   -----  \n",
            " 0   id                    381109 non-null  int64  \n",
            " 1   Gender                381109 non-null  object \n",
            " 2   Age                   381109 non-null  int64  \n",
            " 3   Driving_License       381109 non-null  int64  \n",
            " 4   Region_Code           381109 non-null  float64\n",
            " 5   Previously_Insured    381109 non-null  int64  \n",
            " 6   Vehicle_Age           381109 non-null  object \n",
            " 7   Vehicle_Damage        381109 non-null  object \n",
            " 8   Annual_Premium        381109 non-null  float64\n",
            " 9   Policy_Sales_Channel  381109 non-null  float64\n",
            " 10  Vintage               381109 non-null  int64  \n",
            " 11  Response              381109 non-null  int64  \n",
            "dtypes: float64(3), int64(6), object(3)\n",
            "memory usage: 34.9+ MB\n"
          ]
        }
      ]
    },
    {
      "cell_type": "markdown",
      "metadata": {
        "id": "2oJ5ZQ4LoU75"
      },
      "source": [
        "\n",
        "\n",
        "*   The Dataset consist of 381109 entries with 12 features\n",
        "*   Out of these 12 features, 9 are numeric while 3 are of object type.\n",
        "\n"
      ]
    },
    {
      "cell_type": "code",
      "metadata": {
        "id": "0H5kVU4v9mYV"
      },
      "source": [
        "# dropping the not required 'id' column\n",
        "health_df.drop('id',inplace=True,axis=1)"
      ],
      "execution_count": 64,
      "outputs": []
    },
    {
      "cell_type": "code",
      "metadata": {
        "colab": {
          "base_uri": "https://localhost:8080/"
        },
        "id": "w1-pQ8-BnN85",
        "outputId": "d1edfe69-849a-4050-b0db-a315909ca8f0"
      },
      "source": [
        "# checking for the duplicate values\n",
        "health_df.duplicated().sum()"
      ],
      "execution_count": 65,
      "outputs": [
        {
          "output_type": "execute_result",
          "data": {
            "text/plain": [
              "269"
            ]
          },
          "metadata": {},
          "execution_count": 65
        }
      ]
    },
    {
      "cell_type": "code",
      "metadata": {
        "id": "5FEBG8oVjr6Z"
      },
      "source": [
        "# dropping the duplicate records from the dataset\n",
        "health_df.drop_duplicates(inplace=True)"
      ],
      "execution_count": 66,
      "outputs": []
    },
    {
      "cell_type": "code",
      "metadata": {
        "colab": {
          "base_uri": "https://localhost:8080/"
        },
        "id": "FgV_aPXVj4Yy",
        "outputId": "d31db381-3678-4301-c565-9e592e78466b"
      },
      "source": [
        "# Now there are no duplicate records\n",
        "health_df.duplicated().sum()"
      ],
      "execution_count": 67,
      "outputs": [
        {
          "output_type": "execute_result",
          "data": {
            "text/plain": [
              "0"
            ]
          },
          "metadata": {},
          "execution_count": 67
        }
      ]
    },
    {
      "cell_type": "code",
      "metadata": {
        "colab": {
          "base_uri": "https://localhost:8080/"
        },
        "id": "5B3fC_dtne3n",
        "outputId": "dd367db2-b74d-4431-8f95-f574a015e1fc"
      },
      "source": [
        "# checking for the Null Values\n",
        "health_df.isna().sum()"
      ],
      "execution_count": 68,
      "outputs": [
        {
          "output_type": "execute_result",
          "data": {
            "text/plain": [
              "Gender                  0\n",
              "Age                     0\n",
              "Driving_License         0\n",
              "Region_Code             0\n",
              "Previously_Insured      0\n",
              "Vehicle_Age             0\n",
              "Vehicle_Damage          0\n",
              "Annual_Premium          0\n",
              "Policy_Sales_Channel    0\n",
              "Vintage                 0\n",
              "Response                0\n",
              "dtype: int64"
            ]
          },
          "metadata": {},
          "execution_count": 68
        }
      ]
    },
    {
      "cell_type": "markdown",
      "metadata": {
        "id": "WOJ8UDRbo6kT"
      },
      "source": [
        "*   **Luckily, the dataset doesn't have any feature with Null Values!!!**"
      ]
    },
    {
      "cell_type": "code",
      "metadata": {
        "colab": {
          "base_uri": "https://localhost:8080/",
          "height": 414
        },
        "id": "MA-saCVao4Xy",
        "outputId": "2ba3c808-38c3-4ec4-85d5-22603f2918c1"
      },
      "source": [
        "health_df.describe(include='all')"
      ],
      "execution_count": 10,
      "outputs": [
        {
          "output_type": "execute_result",
          "data": {
            "text/html": [
              "<div>\n",
              "<style scoped>\n",
              "    .dataframe tbody tr th:only-of-type {\n",
              "        vertical-align: middle;\n",
              "    }\n",
              "\n",
              "    .dataframe tbody tr th {\n",
              "        vertical-align: top;\n",
              "    }\n",
              "\n",
              "    .dataframe thead th {\n",
              "        text-align: right;\n",
              "    }\n",
              "</style>\n",
              "<table border=\"1\" class=\"dataframe\">\n",
              "  <thead>\n",
              "    <tr style=\"text-align: right;\">\n",
              "      <th></th>\n",
              "      <th>Gender</th>\n",
              "      <th>Age</th>\n",
              "      <th>Driving_License</th>\n",
              "      <th>Region_Code</th>\n",
              "      <th>Previously_Insured</th>\n",
              "      <th>Vehicle_Age</th>\n",
              "      <th>Vehicle_Damage</th>\n",
              "      <th>Annual_Premium</th>\n",
              "      <th>Policy_Sales_Channel</th>\n",
              "      <th>Vintage</th>\n",
              "      <th>Response</th>\n",
              "    </tr>\n",
              "  </thead>\n",
              "  <tbody>\n",
              "    <tr>\n",
              "      <th>count</th>\n",
              "      <td>380840</td>\n",
              "      <td>380840.000000</td>\n",
              "      <td>380840.000000</td>\n",
              "      <td>380840.000000</td>\n",
              "      <td>380840.000000</td>\n",
              "      <td>380840</td>\n",
              "      <td>380840</td>\n",
              "      <td>380840.000000</td>\n",
              "      <td>380840.000000</td>\n",
              "      <td>380840.000000</td>\n",
              "      <td>380840.000000</td>\n",
              "    </tr>\n",
              "    <tr>\n",
              "      <th>unique</th>\n",
              "      <td>2</td>\n",
              "      <td>NaN</td>\n",
              "      <td>NaN</td>\n",
              "      <td>NaN</td>\n",
              "      <td>NaN</td>\n",
              "      <td>3</td>\n",
              "      <td>2</td>\n",
              "      <td>NaN</td>\n",
              "      <td>NaN</td>\n",
              "      <td>NaN</td>\n",
              "      <td>NaN</td>\n",
              "    </tr>\n",
              "    <tr>\n",
              "      <th>top</th>\n",
              "      <td>Male</td>\n",
              "      <td>NaN</td>\n",
              "      <td>NaN</td>\n",
              "      <td>NaN</td>\n",
              "      <td>NaN</td>\n",
              "      <td>1-2 Year</td>\n",
              "      <td>Yes</td>\n",
              "      <td>NaN</td>\n",
              "      <td>NaN</td>\n",
              "      <td>NaN</td>\n",
              "      <td>NaN</td>\n",
              "    </tr>\n",
              "    <tr>\n",
              "      <th>freq</th>\n",
              "      <td>205938</td>\n",
              "      <td>NaN</td>\n",
              "      <td>NaN</td>\n",
              "      <td>NaN</td>\n",
              "      <td>NaN</td>\n",
              "      <td>200167</td>\n",
              "      <td>192277</td>\n",
              "      <td>NaN</td>\n",
              "      <td>NaN</td>\n",
              "      <td>NaN</td>\n",
              "      <td>NaN</td>\n",
              "    </tr>\n",
              "    <tr>\n",
              "      <th>mean</th>\n",
              "      <td>NaN</td>\n",
              "      <td>38.823593</td>\n",
              "      <td>0.997868</td>\n",
              "      <td>26.388307</td>\n",
              "      <td>0.458208</td>\n",
              "      <td>NaN</td>\n",
              "      <td>NaN</td>\n",
              "      <td>30584.016078</td>\n",
              "      <td>112.030225</td>\n",
              "      <td>154.344607</td>\n",
              "      <td>0.122584</td>\n",
              "    </tr>\n",
              "    <tr>\n",
              "      <th>std</th>\n",
              "      <td>NaN</td>\n",
              "      <td>15.513206</td>\n",
              "      <td>0.046126</td>\n",
              "      <td>13.229907</td>\n",
              "      <td>0.498251</td>\n",
              "      <td>NaN</td>\n",
              "      <td>NaN</td>\n",
              "      <td>17203.258664</td>\n",
              "      <td>54.206194</td>\n",
              "      <td>83.670240</td>\n",
              "      <td>0.327960</td>\n",
              "    </tr>\n",
              "    <tr>\n",
              "      <th>min</th>\n",
              "      <td>NaN</td>\n",
              "      <td>20.000000</td>\n",
              "      <td>0.000000</td>\n",
              "      <td>0.000000</td>\n",
              "      <td>0.000000</td>\n",
              "      <td>NaN</td>\n",
              "      <td>NaN</td>\n",
              "      <td>2630.000000</td>\n",
              "      <td>1.000000</td>\n",
              "      <td>10.000000</td>\n",
              "      <td>0.000000</td>\n",
              "    </tr>\n",
              "    <tr>\n",
              "      <th>25%</th>\n",
              "      <td>NaN</td>\n",
              "      <td>25.000000</td>\n",
              "      <td>1.000000</td>\n",
              "      <td>15.000000</td>\n",
              "      <td>0.000000</td>\n",
              "      <td>NaN</td>\n",
              "      <td>NaN</td>\n",
              "      <td>24426.000000</td>\n",
              "      <td>29.000000</td>\n",
              "      <td>82.000000</td>\n",
              "      <td>0.000000</td>\n",
              "    </tr>\n",
              "    <tr>\n",
              "      <th>50%</th>\n",
              "      <td>NaN</td>\n",
              "      <td>36.000000</td>\n",
              "      <td>1.000000</td>\n",
              "      <td>28.000000</td>\n",
              "      <td>0.000000</td>\n",
              "      <td>NaN</td>\n",
              "      <td>NaN</td>\n",
              "      <td>31678.500000</td>\n",
              "      <td>133.000000</td>\n",
              "      <td>154.000000</td>\n",
              "      <td>0.000000</td>\n",
              "    </tr>\n",
              "    <tr>\n",
              "      <th>75%</th>\n",
              "      <td>NaN</td>\n",
              "      <td>49.000000</td>\n",
              "      <td>1.000000</td>\n",
              "      <td>35.000000</td>\n",
              "      <td>1.000000</td>\n",
              "      <td>NaN</td>\n",
              "      <td>NaN</td>\n",
              "      <td>39408.000000</td>\n",
              "      <td>152.000000</td>\n",
              "      <td>227.000000</td>\n",
              "      <td>0.000000</td>\n",
              "    </tr>\n",
              "    <tr>\n",
              "      <th>max</th>\n",
              "      <td>NaN</td>\n",
              "      <td>85.000000</td>\n",
              "      <td>1.000000</td>\n",
              "      <td>52.000000</td>\n",
              "      <td>1.000000</td>\n",
              "      <td>NaN</td>\n",
              "      <td>NaN</td>\n",
              "      <td>540165.000000</td>\n",
              "      <td>163.000000</td>\n",
              "      <td>299.000000</td>\n",
              "      <td>1.000000</td>\n",
              "    </tr>\n",
              "  </tbody>\n",
              "</table>\n",
              "</div>"
            ],
            "text/plain": [
              "        Gender            Age  ...        Vintage       Response\n",
              "count   380840  380840.000000  ...  380840.000000  380840.000000\n",
              "unique       2            NaN  ...            NaN            NaN\n",
              "top       Male            NaN  ...            NaN            NaN\n",
              "freq    205938            NaN  ...            NaN            NaN\n",
              "mean       NaN      38.823593  ...     154.344607       0.122584\n",
              "std        NaN      15.513206  ...      83.670240       0.327960\n",
              "min        NaN      20.000000  ...      10.000000       0.000000\n",
              "25%        NaN      25.000000  ...      82.000000       0.000000\n",
              "50%        NaN      36.000000  ...     154.000000       0.000000\n",
              "75%        NaN      49.000000  ...     227.000000       0.000000\n",
              "max        NaN      85.000000  ...     299.000000       1.000000\n",
              "\n",
              "[11 rows x 11 columns]"
            ]
          },
          "metadata": {},
          "execution_count": 10
        }
      ]
    },
    {
      "cell_type": "markdown",
      "metadata": {
        "id": "fVoQmcP0qtQF"
      },
      "source": [
        "#**Let's do some EDA**"
      ]
    },
    {
      "cell_type": "markdown",
      "metadata": {
        "id": "yofks39XmalO"
      },
      "source": [
        "##Univariate Analysis"
      ]
    },
    {
      "cell_type": "code",
      "metadata": {
        "colab": {
          "base_uri": "https://localhost:8080/"
        },
        "id": "_OHnp5WvAZHI",
        "outputId": "26e5a090-8095-4956-ce93-fe0672b373db"
      },
      "source": [
        "# Target Variable\n",
        "health_df['Response'].value_counts()"
      ],
      "execution_count": null,
      "outputs": [
        {
          "data": {
            "text/plain": [
              "0    334399\n",
              "1     46710\n",
              "Name: Response, dtype: int64"
            ]
          },
          "execution_count": 121,
          "metadata": {},
          "output_type": "execute_result"
        }
      ]
    },
    {
      "cell_type": "code",
      "metadata": {
        "colab": {
          "base_uri": "https://localhost:8080/",
          "height": 391
        },
        "id": "Zd6I24qX_43f",
        "outputId": "a0093ddd-5c0d-4734-86eb-6498d864d011"
      },
      "source": [
        "# plotting the Response column \n",
        "plt.figure(figsize=(10,6))\n",
        "sns.countplot(health_df['Response']);"
      ],
      "execution_count": null,
      "outputs": [
        {
          "data": {
            "image/png": "[encoded data removed]",
            "text/plain": [
              "<Figure size 720x432 with 1 Axes>"
            ]
          },
          "metadata": {},
          "output_type": "display_data"
        }
      ]
    },
    {
      "cell_type": "markdown",
      "metadata": {
        "id": "nstLuhKyAC5a"
      },
      "source": [
        "* **The Target variable is highly imbalance with maximum customers having no interest in insurance policy.**"
      ]
    },
    {
      "cell_type": "code",
      "metadata": {
        "colab": {
          "base_uri": "https://localhost:8080/",
          "height": 388
        },
        "id": "hO5PoAaqpj4G",
        "outputId": "31221336-e693-416d-ce96-8c45ed12a3c8"
      },
      "source": [
        "# plotting the Gender column to get the count of males and females \n",
        "plt.figure(figsize=(10,6))\n",
        "sns.countplot(health_df['Gender']);"
      ],
      "execution_count": null,
      "outputs": [
        {
          "data": {
            "image/png": "[encoded data removed]",
            "text/plain": [
              "<Figure size 720x432 with 1 Axes>"
            ]
          },
          "metadata": {},
          "output_type": "display_data"
        }
      ]
    },
    {
      "cell_type": "markdown",
      "metadata": {
        "id": "r1Cmn69or5BH"
      },
      "source": [
        "\n",
        "\n",
        "*   **As we can see the Male Policyholders are more(slightly) than Female policyholders**\n",
        "\n",
        "\n"
      ]
    },
    {
      "cell_type": "code",
      "metadata": {
        "colab": {
          "base_uri": "https://localhost:8080/",
          "height": 497
        },
        "id": "tc9nlx-StNfD",
        "outputId": "b167ec8e-1ba6-4091-bfec-b4715cb45d9e"
      },
      "source": [
        "# plotting the Age column \n",
        "plt.figure(figsize=(16,8))\n",
        "sns.countplot(health_df['Age']);"
      ],
      "execution_count": null,
      "outputs": [
        {
          "data": {
            "image/png": "[encoded data removed]",
            "text/plain": [
              "<Figure size 1152x576 with 1 Axes>"
            ]
          },
          "metadata": {},
          "output_type": "display_data"
        }
      ]
    },
    {
      "cell_type": "markdown",
      "metadata": {
        "id": "sKR7KEzcumrV"
      },
      "source": [
        "*   **The Age of policyholders ranges from 20 to 80.**\n",
        "\n"
      ]
    },
    {
      "cell_type": "code",
      "metadata": {
        "colab": {
          "base_uri": "https://localhost:8080/",
          "height": 441
        },
        "id": "Bimj8MVjumSY",
        "outputId": "4a979a1d-7f04-49ec-fae2-78c49df9cb8b"
      },
      "source": [
        "# plotting the Driving_License column \n",
        "plt.figure(figsize=(10,6))\n",
        "sns.countplot(health_df['Driving_License']);\n",
        "health_df['Driving_License'].value_counts()"
      ],
      "execution_count": null,
      "outputs": [
        {
          "data": {
            "text/plain": [
              "1    380297\n",
              "0       812\n",
              "Name: Driving_License, dtype: int64"
            ]
          },
          "execution_count": 125,
          "metadata": {},
          "output_type": "execute_result"
        },
        {
          "data": {
            "image/png": "[encoded data removed]",
            "text/plain": [
              "<Figure size 720x432 with 1 Axes>"
            ]
          },
          "metadata": {},
          "output_type": "display_data"
        }
      ]
    },
    {
      "cell_type": "markdown",
      "metadata": {
        "id": "4-NHjILt0-KG"
      },
      "source": [
        "* **Maximum policyholders acquire a driving licence.** "
      ]
    },
    {
      "cell_type": "code",
      "metadata": {
        "colab": {
          "base_uri": "https://localhost:8080/",
          "height": 411
        },
        "id": "i1zPOuUA1hHe",
        "outputId": "a918a208-b74f-4184-c9b5-79584d1d0a67"
      },
      "source": [
        "# plotting the Region_Code column with it's top 10 entries. \n",
        "plt.figure(figsize=(14,7))\n",
        "health_df['Region_Code'].value_counts().nlargest(10).plot(kind='pie',autopct='%.0f%%',shadow = True);\n"
      ],
      "execution_count": null,
      "outputs": [
        {
          "data": {
            "image/png": "[encoded data removed]",
            "text/plain": [
              "<Figure size 1008x504 with 1 Axes>"
            ]
          },
          "metadata": {},
          "output_type": "display_data"
        }
      ]
    },
    {
      "cell_type": "markdown",
      "metadata": {
        "id": "pb4jJdFa3O4t"
      },
      "source": [
        "* **Most of the policyholders belong to the region that has region code 28.**"
      ]
    },
    {
      "cell_type": "code",
      "metadata": {
        "colab": {
          "base_uri": "https://localhost:8080/",
          "height": 411
        },
        "id": "WQlUz7rW1scM",
        "outputId": "97a99753-634d-40fb-a8a7-99cdf96fcfe8"
      },
      "source": [
        "\n",
        "# plotting the Previously_Insured column \n",
        "plt.figure(figsize=(14,7))\n",
        "health_df['Previously_Insured'].value_counts().plot( kind='pie',autopct='%.0f%%',shadow = True);"
      ],
      "execution_count": null,
      "outputs": [
        {
          "data": {
            "image/png": "[encoded data removed]",
            "text/plain": [
              "<Figure size 1008x504 with 1 Axes>"
            ]
          },
          "metadata": {},
          "output_type": "display_data"
        }
      ]
    },
    {
      "cell_type": "markdown",
      "metadata": {
        "id": "mQKbhq8E5spr"
      },
      "source": [
        "* **Around 54% of the customers does not have the vehicle insurance while 46% of the customers already have it.**"
      ]
    },
    {
      "cell_type": "code",
      "metadata": {
        "colab": {
          "base_uri": "https://localhost:8080/",
          "height": 389
        },
        "id": "6rR91ROo7XcS",
        "outputId": "39fe0078-cc72-4822-f00e-88775c5350f7"
      },
      "source": [
        "# plotting the Vehicle_Age column \n",
        "plt.figure(figsize=(10,6))\n",
        "sns.countplot(health_df['Vehicle_Age']);"
      ],
      "execution_count": null,
      "outputs": [
        {
          "data": {
            "image/png": "[encoded data removed]",
            "text/plain": [
              "<Figure size 720x432 with 1 Axes>"
            ]
          },
          "metadata": {},
          "output_type": "display_data"
        }
      ]
    },
    {
      "cell_type": "markdown",
      "metadata": {
        "id": "cpZT71x47g6E"
      },
      "source": [
        "* **Most of the customers have vehicles that are 1-2 years old.**\n",
        "* **Very few customers have a vehicle more than 2 years old.**"
      ]
    },
    {
      "cell_type": "code",
      "metadata": {
        "colab": {
          "base_uri": "https://localhost:8080/",
          "height": 390
        },
        "id": "D7rm-f2Q8ntc",
        "outputId": "b53dd9ec-fe4b-4da8-b3ce-2691cb6b6adc"
      },
      "source": [
        "# plotting the Vehicle_Damage column \n",
        "plt.figure(figsize=(10,6))\n",
        "sns.countplot(health_df['Vehicle_Damage']);"
      ],
      "execution_count": null,
      "outputs": [
        {
          "data": {
            "image/png": "[encoded data removed]",
            "text/plain": [
              "<Figure size 720x432 with 1 Axes>"
            ]
          },
          "metadata": {},
          "output_type": "display_data"
        }
      ]
    },
    {
      "cell_type": "markdown",
      "metadata": {
        "id": "KiTJT9aB8x4i"
      },
      "source": [
        "* **The plot shows that the number of customers who damaged their vehicles and the ones who didn't are almost equal.**"
      ]
    },
    {
      "cell_type": "markdown",
      "metadata": {
        "id": "Q3AkSnlffnJ8"
      },
      "source": [
        "#Multivariate Analysis"
      ]
    },
    {
      "cell_type": "code",
      "metadata": {
        "colab": {
          "base_uri": "https://localhost:8080/",
          "height": 606
        },
        "id": "iVFhHkE7EIGA",
        "outputId": "35c8282e-79ca-46e0-dada-0d2043ae9d6f"
      },
      "source": [
        "#Age VS Response\n",
        "plt.figure(figsize=(20,10))\n",
        "sns.countplot(x='Age',hue='Response',data=health_df);"
      ],
      "execution_count": null,
      "outputs": [
        {
          "data": {
            "image/png": "[encoded data removed]",
            "text/plain": [
              "<Figure size 1440x720 with 1 Axes>"
            ]
          },
          "metadata": {},
          "output_type": "display_data"
        }
      ]
    },
    {
      "cell_type": "markdown",
      "metadata": {
        "id": "-AfFDC89EdNQ"
      },
      "source": [
        "* **People aged between 30-60 are more likely to be interested in the insurance policy**"
      ]
    },
    {
      "cell_type": "code",
      "metadata": {
        "colab": {
          "base_uri": "https://localhost:8080/",
          "height": 430
        },
        "id": "yX5sRUvmBmb6",
        "outputId": "2af20a5d-a1bc-4336-9b35-6337368bcf70"
      },
      "source": [
        "# Relationship b/w target variable and Gender column\n",
        "ct = pd.crosstab(health_df['Gender'],health_df['Response']) \n",
        "ax = ct.plot(kind='bar',stacked=True,figsize=(10,6));\n",
        "ax.legend(title='Response',loc='upper right');\n",
        "plt.title('Gender vs Response')\n",
        "\n",
        "# getting the centered labels for each bar\n",
        "for c in ax.containers:\n",
        "  labels = [int(v.get_height()) if v.get_height() > 0 else '' for v in c]\n",
        "  ax.bar_label(c, labels=labels, label_type='center',fontweight='bold')\n"
      ],
      "execution_count": null,
      "outputs": [
        {
          "data": {
            "image/png": "[encoded data removed]",
            "text/plain": [
              "<Figure size 720x432 with 1 Axes>"
            ]
          },
          "metadata": {},
          "output_type": "display_data"
        }
      ]
    },
    {
      "cell_type": "markdown",
      "metadata": {
        "id": "7nsrcJ7cdBr1"
      },
      "source": [
        "* **The above plot shows the genderwise distribution of customers who are interested or not in the insurance policy.**\n",
        "* **Male customers' proportion is higher in both types of response than Female customers**"
      ]
    },
    {
      "cell_type": "code",
      "metadata": {
        "colab": {
          "base_uri": "https://localhost:8080/",
          "height": 401
        },
        "id": "u43uD6WTkRqT",
        "outputId": "a477de5c-182c-4bd6-8ff6-2642631a857a"
      },
      "source": [
        "# Relationship b/w target variable and Driving_License column\n",
        "\n",
        "ct = pd.crosstab(health_df['Driving_License'],health_df['Response']) \n",
        "ax = ct.plot(kind='bar',figsize=(10,6));\n",
        "plt.yscale(\"log\")\n",
        "ax.legend(title='Response',loc='upper right');\n",
        "plt.title('Driving_License vs Response')\n",
        "for c in ax.containers:\n",
        "  labels = [int(v.get_height()) if v.get_height() > 0 else '' for v in c]\n",
        "  ax.bar_label(c, labels=labels, label_type='edge',fontweight='bold')\n"
      ],
      "execution_count": null,
      "outputs": [
        {
          "data": {
            "image/png": "[encoded data removed]",
            "text/plain": [
              "<Figure size 720x432 with 1 Axes>"
            ]
          },
          "metadata": {},
          "output_type": "display_data"
        }
      ]
    },
    {
      "cell_type": "markdown",
      "metadata": {
        "id": "3GpppOIIrQIA"
      },
      "source": [
        "* **From the customers who have D.L., only 12.3% of them are interested in insurance policy**\n",
        "* **From the above plot,we can observe that 41 customers who do not have a driving licence are also interested in the insurance policy..**"
      ]
    },
    {
      "cell_type": "code",
      "metadata": {
        "colab": {
          "base_uri": "https://localhost:8080/",
          "height": 401
        },
        "id": "-NaPSxrPug3k",
        "outputId": "05e43583-09b5-4ac6-a7ea-f56a7223f90f"
      },
      "source": [
        "# Relationship b/w target variable and Previously_Insured column\n",
        "ct = pd.crosstab(health_df['Previously_Insured'],health_df['Response']) \n",
        "ax = ct.plot(kind='bar',stacked=True,figsize=(10,6));\n",
        "ax.legend(title='Response',loc='upper right');\n",
        "plt.title('Previously_Insured vs Response')\n",
        "\n",
        "# getting the centered labels for each bar\n",
        "for c in ax.containers:\n",
        "  labels = [int(v.get_height()) if v.get_height() > 0 else '' for v in c]\n",
        "  ax.bar_label(c, labels=labels, label_type='center',fontweight='bold')\n"
      ],
      "execution_count": null,
      "outputs": [
        {
          "data": {
            "image/png": "[encoded data removed]",
            "text/plain": [
              "<Figure size 720x432 with 1 Axes>"
            ]
          },
          "metadata": {},
          "output_type": "display_data"
        }
      ]
    },
    {
      "cell_type": "markdown",
      "metadata": {
        "id": "ghfdLD7Wvld3"
      },
      "source": [
        "* **Of the customers who were previously not insured, 46552 of them are interested in the policy, while the majority of them are not interested.\n",
        "And also, among the customers who were previously insured, the majority of them are not interested in the policy.**"
      ]
    },
    {
      "cell_type": "code",
      "metadata": {
        "colab": {
          "base_uri": "https://localhost:8080/",
          "height": 442
        },
        "id": "Qv8dr_Wrxjs-",
        "outputId": "7e1c3968-351d-485a-b20a-c88c65bf3b93"
      },
      "source": [
        "# Vehicle_Age\n",
        "ct = pd.crosstab(health_df['Vehicle_Age'],health_df['Response']) \n",
        "ax = ct.plot(kind='bar',figsize=(10,6));\n",
        "ax.legend(title='Response',loc='upper right');\n",
        "plt.title('Vehicle_Age vs Response')\n",
        "\n",
        "# getting the centered labels for each bar\n",
        "for c in ax.containers:\n",
        "  labels = [int(v.get_height()) if v.get_height() > 0 else '' for v in c]\n",
        "  ax.bar_label(c, labels=labels, label_type='center',fontweight='bold')"
      ],
      "execution_count": null,
      "outputs": [
        {
          "data": {
            "image/png": "[encoded data removed]",
            "text/plain": [
              "<Figure size 720x432 with 1 Axes>"
            ]
          },
          "metadata": {},
          "output_type": "display_data"
        }
      ]
    },
    {
      "cell_type": "markdown",
      "metadata": {
        "id": "WdpTDorMx8Fw"
      },
      "source": [
        "* **The majority of customers interested in the insurance policy have vehicles that are 1 to 2 years old, followed by those with vehicles that are less than 1 year old.**\n",
        "\n",
        "* **Very few customers are interested in the policy if they have more than two-year-old vehicles.** "
      ]
    },
    {
      "cell_type": "code",
      "metadata": {
        "colab": {
          "base_uri": "https://localhost:8080/",
          "height": 411
        },
        "id": "hRtOXAxmzbcV",
        "outputId": "7fcf9cf0-c20c-47ec-c4dd-65e64d400b83"
      },
      "source": [
        "# Vehicle_Damage\n",
        "\n",
        "ct = pd.crosstab(health_df['Vehicle_Damage'],health_df['Response']) \n",
        "ax = ct.plot(kind='bar',stacked=True,figsize=(10,6));\n",
        "ax.legend(title='Response',loc='upper right');\n",
        "plt.title('Vehicle_Damage vs Response')\n",
        "\n",
        "# getting the centered labels for each bar\n",
        "for c in ax.containers:\n",
        "  labels = [int(v.get_height()) if v.get_height() > 0 else '' for v in c]\n",
        "  ax.bar_label(c, labels=labels, label_type='center',fontweight='bold')"
      ],
      "execution_count": null,
      "outputs": [
        {
          "data": {
            "image/png": "[encoded data removed]",
            "text/plain": [
              "<Figure size 720x432 with 1 Axes>"
            ]
          },
          "metadata": {},
          "output_type": "display_data"
        }
      ]
    },
    {
      "cell_type": "markdown",
      "metadata": {
        "id": "V9ZQw0u5z0m8"
      },
      "source": [
        "* **If we observe the number of customers who are interested in the insurance policy, then the maximum number of them are those who have had vehicle damage in the past.**"
      ]
    },
    {
      "cell_type": "code",
      "metadata": {
        "colab": {
          "base_uri": "https://localhost:8080/",
          "height": 421
        },
        "id": "QzOPGuj04Oq2",
        "outputId": "b14d876f-83a9-4c70-9904-0fc823acfc13"
      },
      "source": [
        "# number of Days, Customer has been associated with the company vs Annual premium\n",
        "plt.figure(figsize=(10,6))\n",
        "sns.scatterplot(x=health_df['Vintage'],y=health_df['Annual_Premium']);\n",
        "plt.title('Vintage vs Annual_Premium')"
      ],
      "execution_count": null,
      "outputs": [
        {
          "data": {
            "text/plain": [
              "Text(0.5, 1.0, 'Vintage vs Annual_Premium')"
            ]
          },
          "execution_count": 136,
          "metadata": {},
          "output_type": "execute_result"
        },
        {
          "data": {
            "image/png": "[encoded data removed]",
            "text/plain": [
              "<Figure size 720x432 with 1 Axes>"
            ]
          },
          "metadata": {},
          "output_type": "display_data"
        }
      ]
    },
    {
      "cell_type": "markdown",
      "metadata": {
        "id": "K-iyifL87srz"
      },
      "source": [
        "* **It seems that the number of days the customer is associated with the company does not affect the amount of annual premium.**"
      ]
    },
    {
      "cell_type": "code",
      "metadata": {
        "id": "P3uD91Vo8pUL"
      },
      "source": [
        "numerical_features = health_df.describe().columns"
      ],
      "execution_count": null,
      "outputs": []
    },
    {
      "cell_type": "code",
      "metadata": {
        "id": "JvuF4iy_9bdz"
      },
      "source": [
        "# since these columns are categorigal in nature we will have to drop them\n",
        "numerical_features=numerical_features.drop(['Response','Driving_License','Previously_Insured'])"
      ],
      "execution_count": null,
      "outputs": []
    },
    {
      "cell_type": "code",
      "metadata": {
        "colab": {
          "base_uri": "https://localhost:8080/",
          "height": 1000
        },
        "id": "9hJv2PQ69g3v",
        "outputId": "9dc83d9e-d1f8-49cd-8c88-ec1d40252863"
      },
      "source": [
        "# plotting the numerical features\n",
        "for feature in numerical_features:\n",
        "  plt.figure(figsize=(10,6))\n",
        "  sns.distplot((health_df[feature]),color='b')\n",
        "  plt.xlabel(feature)"
      ],
      "execution_count": null,
      "outputs": [
        {
          "data": {
            "image/png": "[encoded data removed]",
            "text/plain": [
              "<Figure size 720x432 with 1 Axes>"
            ]
          },
          "metadata": {},
          "output_type": "display_data"
        },
        {
          "data": {
            "image/png": "[encoded data removed]",
            "text/plain": [
              "<Figure size 720x432 with 1 Axes>"
            ]
          },
          "metadata": {},
          "output_type": "display_data"
        },
        {
          "data": {
            "image/png": "[encoded data removed]",
            "text/plain": [
              "<Figure size 720x432 with 1 Axes>"
            ]
          },
          "metadata": {},
          "output_type": "display_data"
        },
        {
          "data": {
            "image/png": "[encoded data removed]",
            "text/plain": [
              "<Figure size 720x432 with 1 Axes>"
            ]
          },
          "metadata": {},
          "output_type": "display_data"
        },
        {
          "data": {
            "image/png": "[encoded data removed]",
            "text/plain": [
              "<Figure size 720x432 with 1 Axes>"
            ]
          },
          "metadata": {},
          "output_type": "display_data"
        }
      ]
    },
    {
      "cell_type": "code",
      "metadata": {
        "colab": {
          "base_uri": "https://localhost:8080/"
        },
        "id": "DXsndNgD_lhQ",
        "outputId": "24e02628-58d3-4815-d4f5-06d02222c1fc"
      },
      "source": [
        "#checking the outliers\n",
        "Q1 = health_df.quantile(0.25)\n",
        "Q3 = health_df.quantile(0.75)\n",
        "IQR = Q3 - Q1\n",
        "\n",
        "((health_df < (Q1 - 1.5 * IQR)) | (health_df > (Q3 + 1.5 * IQR))).sum()"
      ],
      "execution_count": null,
      "outputs": [
        {
          "data": {
            "text/plain": [
              "Age                         0\n",
              "Annual_Premium          10320\n",
              "Driving_License           812\n",
              "Gender                      0\n",
              "Policy_Sales_Channel        0\n",
              "Previously_Insured          0\n",
              "Region_Code                 0\n",
              "Response                46710\n",
              "Vehicle_Age                 0\n",
              "Vehicle_Damage              0\n",
              "Vintage                     0\n",
              "dtype: int64"
            ]
          },
          "execution_count": 140,
          "metadata": {},
          "output_type": "execute_result"
        }
      ]
    },
    {
      "cell_type": "code",
      "metadata": {
        "colab": {
          "base_uri": "https://localhost:8080/",
          "height": 428
        },
        "id": "Ti14URTuA8kJ",
        "outputId": "2f62b8fa-63b1-4af5-cf34-b50c8350084b"
      },
      "source": [
        "plt.figure(figsize=(10,7))\n",
        "plt.boxplot(health_df['Annual_Premium']);"
      ],
      "execution_count": null,
      "outputs": [
        {
          "data": {
            "image/png": "[encoded data removed]",
            "text/plain": [
              "<Figure size 720x504 with 1 Axes>"
            ]
          },
          "metadata": {},
          "output_type": "display_data"
        }
      ]
    },
    {
      "cell_type": "markdown",
      "metadata": {
        "id": "wDT841umYX6h"
      },
      "source": [
        "#Feature Engineering"
      ]
    },
    {
      "cell_type": "code",
      "metadata": {
        "id": "75r3H-Y-rpmP"
      },
      "source": [
        "# Feature encoding\n",
        "health_df['Gender'] = health_df['Gender'].map({'Male':0,'Female':1})\n",
        "health_df['Vehicle_Damage'] = health_df['Vehicle_Damage'].map({'No':0,'Yes':1})\n"
      ],
      "execution_count": 69,
      "outputs": []
    },
    {
      "cell_type": "code",
      "metadata": {
        "id": "MCMc40POBAX9"
      },
      "source": [
        "#separating the dependent and independent variables\n",
        "y=health_df['Response']\n",
        "x=health_df.drop(columns='Response')"
      ],
      "execution_count": 70,
      "outputs": []
    },
    {
      "cell_type": "code",
      "metadata": {
        "colab": {
          "base_uri": "https://localhost:8080/",
          "height": 206
        },
        "id": "2Yc1RAjMBnK-",
        "outputId": "ec434b06-74be-4ad7-9036-4547ad7c2acc"
      },
      "source": [
        "x.head()"
      ],
      "execution_count": 71,
      "outputs": [
        {
          "output_type": "execute_result",
          "data": {
            "text/html": [
              "<div>\n",
              "<style scoped>\n",
              "    .dataframe tbody tr th:only-of-type {\n",
              "        vertical-align: middle;\n",
              "    }\n",
              "\n",
              "    .dataframe tbody tr th {\n",
              "        vertical-align: top;\n",
              "    }\n",
              "\n",
              "    .dataframe thead th {\n",
              "        text-align: right;\n",
              "    }\n",
              "</style>\n",
              "<table border=\"1\" class=\"dataframe\">\n",
              "  <thead>\n",
              "    <tr style=\"text-align: right;\">\n",
              "      <th></th>\n",
              "      <th>Gender</th>\n",
              "      <th>Age</th>\n",
              "      <th>Driving_License</th>\n",
              "      <th>Region_Code</th>\n",
              "      <th>Previously_Insured</th>\n",
              "      <th>Vehicle_Age</th>\n",
              "      <th>Vehicle_Damage</th>\n",
              "      <th>Annual_Premium</th>\n",
              "      <th>Policy_Sales_Channel</th>\n",
              "      <th>Vintage</th>\n",
              "    </tr>\n",
              "  </thead>\n",
              "  <tbody>\n",
              "    <tr>\n",
              "      <th>0</th>\n",
              "      <td>0</td>\n",
              "      <td>44</td>\n",
              "      <td>1</td>\n",
              "      <td>28.0</td>\n",
              "      <td>0</td>\n",
              "      <td>&gt; 2 Years</td>\n",
              "      <td>1</td>\n",
              "      <td>40454.0</td>\n",
              "      <td>26.0</td>\n",
              "      <td>217</td>\n",
              "    </tr>\n",
              "    <tr>\n",
              "      <th>1</th>\n",
              "      <td>0</td>\n",
              "      <td>76</td>\n",
              "      <td>1</td>\n",
              "      <td>3.0</td>\n",
              "      <td>0</td>\n",
              "      <td>1-2 Year</td>\n",
              "      <td>0</td>\n",
              "      <td>33536.0</td>\n",
              "      <td>26.0</td>\n",
              "      <td>183</td>\n",
              "    </tr>\n",
              "    <tr>\n",
              "      <th>2</th>\n",
              "      <td>0</td>\n",
              "      <td>47</td>\n",
              "      <td>1</td>\n",
              "      <td>28.0</td>\n",
              "      <td>0</td>\n",
              "      <td>&gt; 2 Years</td>\n",
              "      <td>1</td>\n",
              "      <td>38294.0</td>\n",
              "      <td>26.0</td>\n",
              "      <td>27</td>\n",
              "    </tr>\n",
              "    <tr>\n",
              "      <th>3</th>\n",
              "      <td>0</td>\n",
              "      <td>21</td>\n",
              "      <td>1</td>\n",
              "      <td>11.0</td>\n",
              "      <td>1</td>\n",
              "      <td>&lt; 1 Year</td>\n",
              "      <td>0</td>\n",
              "      <td>28619.0</td>\n",
              "      <td>152.0</td>\n",
              "      <td>203</td>\n",
              "    </tr>\n",
              "    <tr>\n",
              "      <th>4</th>\n",
              "      <td>1</td>\n",
              "      <td>29</td>\n",
              "      <td>1</td>\n",
              "      <td>41.0</td>\n",
              "      <td>1</td>\n",
              "      <td>&lt; 1 Year</td>\n",
              "      <td>0</td>\n",
              "      <td>27496.0</td>\n",
              "      <td>152.0</td>\n",
              "      <td>39</td>\n",
              "    </tr>\n",
              "  </tbody>\n",
              "</table>\n",
              "</div>"
            ],
            "text/plain": [
              "   Gender  Age  Driving_License  ...  Annual_Premium  Policy_Sales_Channel Vintage\n",
              "0       0   44                1  ...         40454.0                  26.0     217\n",
              "1       0   76                1  ...         33536.0                  26.0     183\n",
              "2       0   47                1  ...         38294.0                  26.0      27\n",
              "3       0   21                1  ...         28619.0                 152.0     203\n",
              "4       1   29                1  ...         27496.0                 152.0      39\n",
              "\n",
              "[5 rows x 10 columns]"
            ]
          },
          "metadata": {},
          "execution_count": 71
        }
      ]
    },
    {
      "cell_type": "code",
      "metadata": {
        "id": "pf4kBs1vrq_7"
      },
      "source": [
        ""
      ],
      "execution_count": 13,
      "outputs": []
    },
    {
      "cell_type": "markdown",
      "metadata": {
        "id": "hW6gBgRP8JF5"
      },
      "source": [
        "###One hot encoding:"
      ]
    },
    {
      "cell_type": "code",
      "metadata": {
        "colab": {
          "base_uri": "https://localhost:8080/"
        },
        "id": "3so5tPsPB81H",
        "outputId": "51248beb-3e2f-4f34-b486-ba5a233edec9"
      },
      "source": [
        "# Performing one hot encoding on the dependent variables\n",
        "x=pd.get_dummies(x)\n",
        "x.shape"
      ],
      "execution_count": 72,
      "outputs": [
        {
          "output_type": "execute_result",
          "data": {
            "text/plain": [
              "(380840, 12)"
            ]
          },
          "metadata": {},
          "execution_count": 72
        }
      ]
    },
    {
      "cell_type": "code",
      "metadata": {
        "colab": {
          "base_uri": "https://localhost:8080/",
          "height": 244
        },
        "id": "o3FJ1omcCBFA",
        "outputId": "c80126ad-a9d9-4cb8-8b29-c00afca0a557"
      },
      "source": [
        "x.head()"
      ],
      "execution_count": 73,
      "outputs": [
        {
          "output_type": "execute_result",
          "data": {
            "text/html": [
              "<div>\n",
              "<style scoped>\n",
              "    .dataframe tbody tr th:only-of-type {\n",
              "        vertical-align: middle;\n",
              "    }\n",
              "\n",
              "    .dataframe tbody tr th {\n",
              "        vertical-align: top;\n",
              "    }\n",
              "\n",
              "    .dataframe thead th {\n",
              "        text-align: right;\n",
              "    }\n",
              "</style>\n",
              "<table border=\"1\" class=\"dataframe\">\n",
              "  <thead>\n",
              "    <tr style=\"text-align: right;\">\n",
              "      <th></th>\n",
              "      <th>Gender</th>\n",
              "      <th>Age</th>\n",
              "      <th>Driving_License</th>\n",
              "      <th>Region_Code</th>\n",
              "      <th>Previously_Insured</th>\n",
              "      <th>Vehicle_Damage</th>\n",
              "      <th>Annual_Premium</th>\n",
              "      <th>Policy_Sales_Channel</th>\n",
              "      <th>Vintage</th>\n",
              "      <th>Vehicle_Age_1-2 Year</th>\n",
              "      <th>Vehicle_Age_&lt; 1 Year</th>\n",
              "      <th>Vehicle_Age_&gt; 2 Years</th>\n",
              "    </tr>\n",
              "  </thead>\n",
              "  <tbody>\n",
              "    <tr>\n",
              "      <th>0</th>\n",
              "      <td>0</td>\n",
              "      <td>44</td>\n",
              "      <td>1</td>\n",
              "      <td>28.0</td>\n",
              "      <td>0</td>\n",
              "      <td>1</td>\n",
              "      <td>40454.0</td>\n",
              "      <td>26.0</td>\n",
              "      <td>217</td>\n",
              "      <td>0</td>\n",
              "      <td>0</td>\n",
              "      <td>1</td>\n",
              "    </tr>\n",
              "    <tr>\n",
              "      <th>1</th>\n",
              "      <td>0</td>\n",
              "      <td>76</td>\n",
              "      <td>1</td>\n",
              "      <td>3.0</td>\n",
              "      <td>0</td>\n",
              "      <td>0</td>\n",
              "      <td>33536.0</td>\n",
              "      <td>26.0</td>\n",
              "      <td>183</td>\n",
              "      <td>1</td>\n",
              "      <td>0</td>\n",
              "      <td>0</td>\n",
              "    </tr>\n",
              "    <tr>\n",
              "      <th>2</th>\n",
              "      <td>0</td>\n",
              "      <td>47</td>\n",
              "      <td>1</td>\n",
              "      <td>28.0</td>\n",
              "      <td>0</td>\n",
              "      <td>1</td>\n",
              "      <td>38294.0</td>\n",
              "      <td>26.0</td>\n",
              "      <td>27</td>\n",
              "      <td>0</td>\n",
              "      <td>0</td>\n",
              "      <td>1</td>\n",
              "    </tr>\n",
              "    <tr>\n",
              "      <th>3</th>\n",
              "      <td>0</td>\n",
              "      <td>21</td>\n",
              "      <td>1</td>\n",
              "      <td>11.0</td>\n",
              "      <td>1</td>\n",
              "      <td>0</td>\n",
              "      <td>28619.0</td>\n",
              "      <td>152.0</td>\n",
              "      <td>203</td>\n",
              "      <td>0</td>\n",
              "      <td>1</td>\n",
              "      <td>0</td>\n",
              "    </tr>\n",
              "    <tr>\n",
              "      <th>4</th>\n",
              "      <td>1</td>\n",
              "      <td>29</td>\n",
              "      <td>1</td>\n",
              "      <td>41.0</td>\n",
              "      <td>1</td>\n",
              "      <td>0</td>\n",
              "      <td>27496.0</td>\n",
              "      <td>152.0</td>\n",
              "      <td>39</td>\n",
              "      <td>0</td>\n",
              "      <td>1</td>\n",
              "      <td>0</td>\n",
              "    </tr>\n",
              "  </tbody>\n",
              "</table>\n",
              "</div>"
            ],
            "text/plain": [
              "   Gender  Age  ...  Vehicle_Age_< 1 Year  Vehicle_Age_> 2 Years\n",
              "0       0   44  ...                     0                      1\n",
              "1       0   76  ...                     0                      0\n",
              "2       0   47  ...                     0                      1\n",
              "3       0   21  ...                     1                      0\n",
              "4       1   29  ...                     1                      0\n",
              "\n",
              "[5 rows x 12 columns]"
            ]
          },
          "metadata": {},
          "execution_count": 73
        }
      ]
    },
    {
      "cell_type": "code",
      "metadata": {
        "id": "K9VDRTd14Ce4"
      },
      "source": [
        "# Merging the columns 'Vehicle_Age_1-2 Year' and 'Vehicle_Age_> 2 Years'\n",
        "x['Vehicle_Age > 1 Year'] = x['Vehicle_Age_1-2 Year']+x['Vehicle_Age_> 2 Years']"
      ],
      "execution_count": 74,
      "outputs": []
    },
    {
      "cell_type": "code",
      "metadata": {
        "id": "H-GPZ9w848Ce"
      },
      "source": [
        "x.drop(['Vehicle_Age_1-2 Year','Vehicle_Age_> 2 Years'],inplace=True, axis=1)"
      ],
      "execution_count": 75,
      "outputs": []
    },
    {
      "cell_type": "code",
      "metadata": {
        "colab": {
          "base_uri": "https://localhost:8080/",
          "height": 224
        },
        "id": "PBMQci7o43oe",
        "outputId": "2fbb973c-2951-415e-f855-1103d201f5d5"
      },
      "source": [
        "x.head()"
      ],
      "execution_count": 76,
      "outputs": [
        {
          "output_type": "execute_result",
          "data": {
            "text/html": [
              "<div>\n",
              "<style scoped>\n",
              "    .dataframe tbody tr th:only-of-type {\n",
              "        vertical-align: middle;\n",
              "    }\n",
              "\n",
              "    .dataframe tbody tr th {\n",
              "        vertical-align: top;\n",
              "    }\n",
              "\n",
              "    .dataframe thead th {\n",
              "        text-align: right;\n",
              "    }\n",
              "</style>\n",
              "<table border=\"1\" class=\"dataframe\">\n",
              "  <thead>\n",
              "    <tr style=\"text-align: right;\">\n",
              "      <th></th>\n",
              "      <th>Gender</th>\n",
              "      <th>Age</th>\n",
              "      <th>Driving_License</th>\n",
              "      <th>Region_Code</th>\n",
              "      <th>Previously_Insured</th>\n",
              "      <th>Vehicle_Damage</th>\n",
              "      <th>Annual_Premium</th>\n",
              "      <th>Policy_Sales_Channel</th>\n",
              "      <th>Vintage</th>\n",
              "      <th>Vehicle_Age_&lt; 1 Year</th>\n",
              "      <th>Vehicle_Age &gt; 1 Year</th>\n",
              "    </tr>\n",
              "  </thead>\n",
              "  <tbody>\n",
              "    <tr>\n",
              "      <th>0</th>\n",
              "      <td>0</td>\n",
              "      <td>44</td>\n",
              "      <td>1</td>\n",
              "      <td>28.0</td>\n",
              "      <td>0</td>\n",
              "      <td>1</td>\n",
              "      <td>40454.0</td>\n",
              "      <td>26.0</td>\n",
              "      <td>217</td>\n",
              "      <td>0</td>\n",
              "      <td>1</td>\n",
              "    </tr>\n",
              "    <tr>\n",
              "      <th>1</th>\n",
              "      <td>0</td>\n",
              "      <td>76</td>\n",
              "      <td>1</td>\n",
              "      <td>3.0</td>\n",
              "      <td>0</td>\n",
              "      <td>0</td>\n",
              "      <td>33536.0</td>\n",
              "      <td>26.0</td>\n",
              "      <td>183</td>\n",
              "      <td>0</td>\n",
              "      <td>1</td>\n",
              "    </tr>\n",
              "    <tr>\n",
              "      <th>2</th>\n",
              "      <td>0</td>\n",
              "      <td>47</td>\n",
              "      <td>1</td>\n",
              "      <td>28.0</td>\n",
              "      <td>0</td>\n",
              "      <td>1</td>\n",
              "      <td>38294.0</td>\n",
              "      <td>26.0</td>\n",
              "      <td>27</td>\n",
              "      <td>0</td>\n",
              "      <td>1</td>\n",
              "    </tr>\n",
              "    <tr>\n",
              "      <th>3</th>\n",
              "      <td>0</td>\n",
              "      <td>21</td>\n",
              "      <td>1</td>\n",
              "      <td>11.0</td>\n",
              "      <td>1</td>\n",
              "      <td>0</td>\n",
              "      <td>28619.0</td>\n",
              "      <td>152.0</td>\n",
              "      <td>203</td>\n",
              "      <td>1</td>\n",
              "      <td>0</td>\n",
              "    </tr>\n",
              "    <tr>\n",
              "      <th>4</th>\n",
              "      <td>1</td>\n",
              "      <td>29</td>\n",
              "      <td>1</td>\n",
              "      <td>41.0</td>\n",
              "      <td>1</td>\n",
              "      <td>0</td>\n",
              "      <td>27496.0</td>\n",
              "      <td>152.0</td>\n",
              "      <td>39</td>\n",
              "      <td>1</td>\n",
              "      <td>0</td>\n",
              "    </tr>\n",
              "  </tbody>\n",
              "</table>\n",
              "</div>"
            ],
            "text/plain": [
              "   Gender  Age  ...  Vehicle_Age_< 1 Year  Vehicle_Age > 1 Year\n",
              "0       0   44  ...                     0                     1\n",
              "1       0   76  ...                     0                     1\n",
              "2       0   47  ...                     0                     1\n",
              "3       0   21  ...                     1                     0\n",
              "4       1   29  ...                     1                     0\n",
              "\n",
              "[5 rows x 11 columns]"
            ]
          },
          "metadata": {},
          "execution_count": 76
        }
      ]
    },
    {
      "cell_type": "markdown",
      "metadata": {
        "id": "vaqSLtX79HNG"
      },
      "source": [
        "###Feature Selection:"
      ]
    },
    {
      "cell_type": "code",
      "metadata": {
        "colab": {
          "base_uri": "https://localhost:8080/"
        },
        "id": "Uj8AgzJ8Cd1Q",
        "outputId": "9f391fa9-3b09-448e-9027-29a431a08b4b"
      },
      "source": [
        "x.columns"
      ],
      "execution_count": 77,
      "outputs": [
        {
          "output_type": "execute_result",
          "data": {
            "text/plain": [
              "Index(['Gender', 'Age', 'Driving_License', 'Region_Code', 'Previously_Insured',\n",
              "       'Vehicle_Damage', 'Annual_Premium', 'Policy_Sales_Channel', 'Vintage',\n",
              "       'Vehicle_Age_< 1 Year', 'Vehicle_Age > 1 Year'],\n",
              "      dtype='object')"
            ]
          },
          "metadata": {},
          "execution_count": 77
        }
      ]
    },
    {
      "cell_type": "code",
      "metadata": {
        "colab": {
          "base_uri": "https://localhost:8080/",
          "height": 492
        },
        "id": "_elYD0aoCeTC",
        "outputId": "4ba83d55-405e-4f4b-e6cd-f38732a2c1ae"
      },
      "source": [
        "# plotting the heatmap.\n",
        "fig = plt.figure(figsize=(12,6))\n",
        "ax = fig.add_subplot(111)\n",
        "sns.heatmap(x.corr(),annot=True)"
      ],
      "execution_count": 78,
      "outputs": [
        {
          "output_type": "execute_result",
          "data": {
            "text/plain": [
              "<matplotlib.axes._subplots.AxesSubplot at 0x7fe64fafd5d0>"
            ]
          },
          "metadata": {},
          "execution_count": 78
        },
        {
          "output_type": "display_data",
          "data": {
            "image/png": "[encoded data removed]",
            "text/plain": [
              "<Figure size 864x432 with 2 Axes>"
            ]
          },
          "metadata": {
            "needs_background": "light"
          }
        }
      ]
    },
    {
      "cell_type": "code",
      "metadata": {
        "id": "UhXh1MwMCu3w"
      },
      "source": [
        "#Multicollinearity\n",
        "from statsmodels.stats.outliers_influence import variance_inflation_factor\n",
        "def calc_vif(X):\n",
        " \n",
        "   # Calculating VIF\n",
        "   vif = pd.DataFrame()\n",
        "   vif[\"variables\"] = x.columns\n",
        "   vif[\"VIF\"] = [variance_inflation_factor(x.values, i) for i in range(x.shape[1])]\n",
        " \n",
        "   return(vif)"
      ],
      "execution_count": 79,
      "outputs": []
    },
    {
      "cell_type": "code",
      "metadata": {
        "colab": {
          "base_uri": "https://localhost:8080/",
          "height": 394
        },
        "id": "FHBNZQfQCxEP",
        "outputId": "05b7ea6c-a613-4472-ea1e-38c867afa98f"
      },
      "source": [
        "calc_vif(x)"
      ],
      "execution_count": 80,
      "outputs": [
        {
          "output_type": "execute_result",
          "data": {
            "text/html": [
              "<div>\n",
              "<style scoped>\n",
              "    .dataframe tbody tr th:only-of-type {\n",
              "        vertical-align: middle;\n",
              "    }\n",
              "\n",
              "    .dataframe tbody tr th {\n",
              "        vertical-align: top;\n",
              "    }\n",
              "\n",
              "    .dataframe thead th {\n",
              "        text-align: right;\n",
              "    }\n",
              "</style>\n",
              "<table border=\"1\" class=\"dataframe\">\n",
              "  <thead>\n",
              "    <tr style=\"text-align: right;\">\n",
              "      <th></th>\n",
              "      <th>variables</th>\n",
              "      <th>VIF</th>\n",
              "    </tr>\n",
              "  </thead>\n",
              "  <tbody>\n",
              "    <tr>\n",
              "      <th>0</th>\n",
              "      <td>Gender</td>\n",
              "      <td>1.030583</td>\n",
              "    </tr>\n",
              "    <tr>\n",
              "      <th>1</th>\n",
              "      <td>Age</td>\n",
              "      <td>2.848076</td>\n",
              "    </tr>\n",
              "    <tr>\n",
              "      <th>2</th>\n",
              "      <td>Driving_License</td>\n",
              "      <td>1.007955</td>\n",
              "    </tr>\n",
              "    <tr>\n",
              "      <th>3</th>\n",
              "      <td>Region_Code</td>\n",
              "      <td>1.002908</td>\n",
              "    </tr>\n",
              "    <tr>\n",
              "      <th>4</th>\n",
              "      <td>Previously_Insured</td>\n",
              "      <td>3.152647</td>\n",
              "    </tr>\n",
              "    <tr>\n",
              "      <th>5</th>\n",
              "      <td>Vehicle_Damage</td>\n",
              "      <td>3.183509</td>\n",
              "    </tr>\n",
              "    <tr>\n",
              "      <th>6</th>\n",
              "      <td>Annual_Premium</td>\n",
              "      <td>1.019255</td>\n",
              "    </tr>\n",
              "    <tr>\n",
              "      <th>7</th>\n",
              "      <td>Policy_Sales_Channel</td>\n",
              "      <td>1.606766</td>\n",
              "    </tr>\n",
              "    <tr>\n",
              "      <th>8</th>\n",
              "      <td>Vintage</td>\n",
              "      <td>1.000026</td>\n",
              "    </tr>\n",
              "    <tr>\n",
              "      <th>9</th>\n",
              "      <td>Vehicle_Age_&lt; 1 Year</td>\n",
              "      <td>229.175764</td>\n",
              "    </tr>\n",
              "    <tr>\n",
              "      <th>10</th>\n",
              "      <td>Vehicle_Age &gt; 1 Year</td>\n",
              "      <td>311.623749</td>\n",
              "    </tr>\n",
              "  </tbody>\n",
              "</table>\n",
              "</div>"
            ],
            "text/plain": [
              "               variables         VIF\n",
              "0                 Gender    1.030583\n",
              "1                    Age    2.848076\n",
              "2        Driving_License    1.007955\n",
              "3            Region_Code    1.002908\n",
              "4     Previously_Insured    3.152647\n",
              "5         Vehicle_Damage    3.183509\n",
              "6         Annual_Premium    1.019255\n",
              "7   Policy_Sales_Channel    1.606766\n",
              "8                Vintage    1.000026\n",
              "9   Vehicle_Age_< 1 Year  229.175764\n",
              "10  Vehicle_Age > 1 Year  311.623749"
            ]
          },
          "metadata": {},
          "execution_count": 80
        }
      ]
    },
    {
      "cell_type": "code",
      "metadata": {
        "id": "w4s2SZqFOy0n"
      },
      "source": [
        "# dropping the features with high VIF\n",
        "x.drop(['Vehicle_Age > 1 Year'],axis=1,inplace=True)"
      ],
      "execution_count": 81,
      "outputs": []
    },
    {
      "cell_type": "code",
      "metadata": {
        "colab": {
          "base_uri": "https://localhost:8080/",
          "height": 363
        },
        "id": "g-o_iO_E5nlO",
        "outputId": "911b2b67-2fdc-459c-a926-b5a1d6610f06"
      },
      "source": [
        "calc_vif(x)"
      ],
      "execution_count": 82,
      "outputs": [
        {
          "output_type": "execute_result",
          "data": {
            "text/html": [
              "<div>\n",
              "<style scoped>\n",
              "    .dataframe tbody tr th:only-of-type {\n",
              "        vertical-align: middle;\n",
              "    }\n",
              "\n",
              "    .dataframe tbody tr th {\n",
              "        vertical-align: top;\n",
              "    }\n",
              "\n",
              "    .dataframe thead th {\n",
              "        text-align: right;\n",
              "    }\n",
              "</style>\n",
              "<table border=\"1\" class=\"dataframe\">\n",
              "  <thead>\n",
              "    <tr style=\"text-align: right;\">\n",
              "      <th></th>\n",
              "      <th>variables</th>\n",
              "      <th>VIF</th>\n",
              "    </tr>\n",
              "  </thead>\n",
              "  <tbody>\n",
              "    <tr>\n",
              "      <th>0</th>\n",
              "      <td>Gender</td>\n",
              "      <td>1.904205</td>\n",
              "    </tr>\n",
              "    <tr>\n",
              "      <th>1</th>\n",
              "      <td>Age</td>\n",
              "      <td>18.639157</td>\n",
              "    </tr>\n",
              "    <tr>\n",
              "      <th>2</th>\n",
              "      <td>Driving_License</td>\n",
              "      <td>53.126479</td>\n",
              "    </tr>\n",
              "    <tr>\n",
              "      <th>3</th>\n",
              "      <td>Region_Code</td>\n",
              "      <td>4.956857</td>\n",
              "    </tr>\n",
              "    <tr>\n",
              "      <th>4</th>\n",
              "      <td>Previously_Insured</td>\n",
              "      <td>5.739275</td>\n",
              "    </tr>\n",
              "    <tr>\n",
              "      <th>5</th>\n",
              "      <td>Vehicle_Damage</td>\n",
              "      <td>6.301520</td>\n",
              "    </tr>\n",
              "    <tr>\n",
              "      <th>6</th>\n",
              "      <td>Annual_Premium</td>\n",
              "      <td>4.215765</td>\n",
              "    </tr>\n",
              "    <tr>\n",
              "      <th>7</th>\n",
              "      <td>Policy_Sales_Channel</td>\n",
              "      <td>8.291099</td>\n",
              "    </tr>\n",
              "    <tr>\n",
              "      <th>8</th>\n",
              "      <td>Vintage</td>\n",
              "      <td>4.375074</td>\n",
              "    </tr>\n",
              "    <tr>\n",
              "      <th>9</th>\n",
              "      <td>Vehicle_Age_&lt; 1 Year</td>\n",
              "      <td>5.148723</td>\n",
              "    </tr>\n",
              "  </tbody>\n",
              "</table>\n",
              "</div>"
            ],
            "text/plain": [
              "              variables        VIF\n",
              "0                Gender   1.904205\n",
              "1                   Age  18.639157\n",
              "2       Driving_License  53.126479\n",
              "3           Region_Code   4.956857\n",
              "4    Previously_Insured   5.739275\n",
              "5        Vehicle_Damage   6.301520\n",
              "6        Annual_Premium   4.215765\n",
              "7  Policy_Sales_Channel   8.291099\n",
              "8               Vintage   4.375074\n",
              "9  Vehicle_Age_< 1 Year   5.148723"
            ]
          },
          "metadata": {},
          "execution_count": 82
        }
      ]
    },
    {
      "cell_type": "code",
      "metadata": {
        "id": "80aOl7YC5_VU"
      },
      "source": [
        "# dropping the features with high VIF\n",
        "x.drop(['Driving_License'],axis=1,inplace=True)"
      ],
      "execution_count": 83,
      "outputs": []
    },
    {
      "cell_type": "code",
      "metadata": {
        "colab": {
          "base_uri": "https://localhost:8080/",
          "height": 332
        },
        "id": "cKA6ZOztkUco",
        "outputId": "19265452-2f9c-46fe-f037-9cc65519ed53"
      },
      "source": [
        "calc_vif(x)"
      ],
      "execution_count": 84,
      "outputs": [
        {
          "output_type": "execute_result",
          "data": {
            "text/html": [
              "<div>\n",
              "<style scoped>\n",
              "    .dataframe tbody tr th:only-of-type {\n",
              "        vertical-align: middle;\n",
              "    }\n",
              "\n",
              "    .dataframe tbody tr th {\n",
              "        vertical-align: top;\n",
              "    }\n",
              "\n",
              "    .dataframe thead th {\n",
              "        text-align: right;\n",
              "    }\n",
              "</style>\n",
              "<table border=\"1\" class=\"dataframe\">\n",
              "  <thead>\n",
              "    <tr style=\"text-align: right;\">\n",
              "      <th></th>\n",
              "      <th>variables</th>\n",
              "      <th>VIF</th>\n",
              "    </tr>\n",
              "  </thead>\n",
              "  <tbody>\n",
              "    <tr>\n",
              "      <th>0</th>\n",
              "      <td>Gender</td>\n",
              "      <td>1.880389</td>\n",
              "    </tr>\n",
              "    <tr>\n",
              "      <th>1</th>\n",
              "      <td>Age</td>\n",
              "      <td>9.524435</td>\n",
              "    </tr>\n",
              "    <tr>\n",
              "      <th>2</th>\n",
              "      <td>Region_Code</td>\n",
              "      <td>4.659880</td>\n",
              "    </tr>\n",
              "    <tr>\n",
              "      <th>3</th>\n",
              "      <td>Previously_Insured</td>\n",
              "      <td>5.105276</td>\n",
              "    </tr>\n",
              "    <tr>\n",
              "      <th>4</th>\n",
              "      <td>Vehicle_Damage</td>\n",
              "      <td>5.327075</td>\n",
              "    </tr>\n",
              "    <tr>\n",
              "      <th>5</th>\n",
              "      <td>Annual_Premium</td>\n",
              "      <td>4.040552</td>\n",
              "    </tr>\n",
              "    <tr>\n",
              "      <th>6</th>\n",
              "      <td>Policy_Sales_Channel</td>\n",
              "      <td>6.772000</td>\n",
              "    </tr>\n",
              "    <tr>\n",
              "      <th>7</th>\n",
              "      <td>Vintage</td>\n",
              "      <td>4.160018</td>\n",
              "    </tr>\n",
              "    <tr>\n",
              "      <th>8</th>\n",
              "      <td>Vehicle_Age_&lt; 1 Year</td>\n",
              "      <td>4.191293</td>\n",
              "    </tr>\n",
              "  </tbody>\n",
              "</table>\n",
              "</div>"
            ],
            "text/plain": [
              "              variables       VIF\n",
              "0                Gender  1.880389\n",
              "1                   Age  9.524435\n",
              "2           Region_Code  4.659880\n",
              "3    Previously_Insured  5.105276\n",
              "4        Vehicle_Damage  5.327075\n",
              "5        Annual_Premium  4.040552\n",
              "6  Policy_Sales_Channel  6.772000\n",
              "7               Vintage  4.160018\n",
              "8  Vehicle_Age_< 1 Year  4.191293"
            ]
          },
          "metadata": {},
          "execution_count": 84
        }
      ]
    },
    {
      "cell_type": "code",
      "metadata": {
        "id": "hcy6HNDGcMmD"
      },
      "source": [
        "# copying the data for future use\n",
        "X = x.copy()\n",
        "Y = y.copy()"
      ],
      "execution_count": 85,
      "outputs": []
    },
    {
      "cell_type": "markdown",
      "metadata": {
        "id": "MCf5AfhtA2ki"
      },
      "source": [
        "#Data Transformation"
      ]
    },
    {
      "cell_type": "code",
      "metadata": {
        "id": "QsB8HyCYD4fC"
      },
      "source": [
        "# scaling the data\n",
        "from sklearn.preprocessing import MinMaxScaler\n",
        "scaler = MinMaxScaler()\n",
        "scaler.fit(x)\n",
        "x=scaler.transform(x)"
      ],
      "execution_count": 27,
      "outputs": []
    },
    {
      "cell_type": "markdown",
      "metadata": {
        "id": "HG8qNuz2KJRb"
      },
      "source": [
        "#Handling Imbalanced data"
      ]
    },
    {
      "cell_type": "markdown",
      "metadata": {
        "id": "-KFaMGSNEaaV"
      },
      "source": [
        "###Using SMOTE Method"
      ]
    },
    {
      "cell_type": "code",
      "metadata": {
        "id": "ydS6kwcUFKiB",
        "colab": {
          "base_uri": "https://localhost:8080/",
          "height": 318
        },
        "outputId": "f3628391-c972-4975-8b12-0a39da8ede86"
      },
      "source": [
        "# Using SMOTE technique of balancing the datset\n",
        "from imblearn.over_sampling import SMOTE\n",
        "\n",
        "sm = SMOTE(random_state=46, sampling_strategy=1.0)\n",
        "x_smote, y_smote = sm.fit_resample(x, y)\n",
        "\n",
        "from collections import Counter\n",
        "print('Original dataset shape {}'.format(Counter(y)))\n",
        "print('Resampled dataset shape {}'.format(Counter(y_smote)))\n",
        "sns.countplot(y_smote,palette='Set2');"
      ],
      "execution_count": 28,
      "outputs": [
        {
          "output_type": "stream",
          "name": "stdout",
          "text": [
            "Original dataset shape Counter({0: 334155, 1: 46685})\n",
            "Resampled dataset shape Counter({1: 334155, 0: 334155})\n"
          ]
        },
        {
          "output_type": "display_data",
          "data": {
            "image/png": "[encoded data removed]",
            "text/plain": [
              "<Figure size 432x288 with 1 Axes>"
            ]
          },
          "metadata": {
            "needs_background": "light"
          }
        }
      ]
    },
    {
      "cell_type": "code",
      "metadata": {
        "id": "y8rKGJaDe4t1"
      },
      "source": [
        "# Divivding the dataset into train and test set\n",
        "x_train_sm, x_test_sm, y_train_sm, y_test_sm = train_test_split(x_smote, y_smote, test_size=0.2, random_state=11)"
      ],
      "execution_count": 29,
      "outputs": []
    },
    {
      "cell_type": "markdown",
      "metadata": {
        "id": "Vxuz0Vj8fwA2"
      },
      "source": [
        "#Training a Random Forest Classifier"
      ]
    },
    {
      "cell_type": "code",
      "metadata": {
        "id": "YQ2FVB2c6Vym"
      },
      "source": [
        "from sklearn.ensemble import RandomForestClassifier"
      ],
      "execution_count": 132,
      "outputs": []
    },
    {
      "cell_type": "code",
      "metadata": {
        "id": "Z4sqX0gj6Ygc"
      },
      "source": [
        "# Number of trees\n",
        "n_estimators = [50,80,100]\n",
        "\n",
        "# Maximum depth of trees\n",
        "max_depth = [4,6,8]\n",
        "\n",
        "# Minimum number of samples required to split a node\n",
        "min_samples_split = [50,100,150]\n",
        "\n",
        "# Minimum number of samples required at each leaf node\n",
        "min_samples_leaf = [40,50]\n",
        "\n",
        "# HYperparameter Grid\n",
        "param_dict = {'n_estimators' : n_estimators,\n",
        "              'max_depth' : max_depth,\n",
        "              'min_samples_split' : min_samples_split,\n",
        "              'min_samples_leaf' : min_samples_leaf}"
      ],
      "execution_count": 135,
      "outputs": []
    },
    {
      "cell_type": "code",
      "metadata": {
        "colab": {
          "base_uri": "https://localhost:8080/"
        },
        "id": "YV6qWrIn6dyn",
        "outputId": "eed12df4-0104-41e1-a979-3de90aafbf18"
      },
      "source": [
        "# # Create an instance of the RandomForestClassifier\n",
        "# rf_model = RandomForestClassifier()\n",
        "\n",
        "# # Grid search\n",
        "# rf_grid = GridSearchCV(estimator=rf_model,\n",
        "#                        param_grid = param_dict,\n",
        "#                        cv = 5, verbose=2, scoring='roc_auc')\n",
        "\n",
        "\n",
        "# rf_grid.fit(x_train_sm,y_train_sm)"
      ],
      "execution_count": 143,
      "outputs": [
        {
          "output_type": "stream",
          "name": "stdout",
          "text": [
            "Fitting 5 folds for each of 54 candidates, totalling 270 fits\n",
            "[CV] END max_depth=4, min_samples_leaf=40, min_samples_split=50, n_estimators=50; total time=  16.6s\n",
            "[CV] END max_depth=4, min_samples_leaf=40, min_samples_split=50, n_estimators=50; total time=  16.2s\n",
            "[CV] END max_depth=4, min_samples_leaf=40, min_samples_split=50, n_estimators=50; total time=  16.8s\n",
            "[CV] END max_depth=4, min_samples_leaf=40, min_samples_split=50, n_estimators=50; total time=  16.7s\n",
            "[CV] END max_depth=4, min_samples_leaf=40, min_samples_split=50, n_estimators=50; total time=  17.1s\n",
            "[CV] END max_depth=4, min_samples_leaf=40, min_samples_split=50, n_estimators=80; total time=  26.2s\n",
            "[CV] END max_depth=4, min_samples_leaf=40, min_samples_split=50, n_estimators=80; total time=  25.7s\n",
            "[CV] END max_depth=4, min_samples_leaf=40, min_samples_split=50, n_estimators=80; total time=  24.7s\n",
            "[CV] END max_depth=4, min_samples_leaf=40, min_samples_split=50, n_estimators=80; total time=  23.3s\n",
            "[CV] END max_depth=4, min_samples_leaf=40, min_samples_split=50, n_estimators=80; total time=  25.8s\n",
            "[CV] END max_depth=4, min_samples_leaf=40, min_samples_split=50, n_estimators=100; total time=  32.4s\n",
            "[CV] END max_depth=4, min_samples_leaf=40, min_samples_split=50, n_estimators=100; total time=  32.3s\n",
            "[CV] END max_depth=4, min_samples_leaf=40, min_samples_split=50, n_estimators=100; total time=  31.7s\n",
            "[CV] END max_depth=4, min_samples_leaf=40, min_samples_split=50, n_estimators=100; total time=  31.0s\n",
            "[CV] END max_depth=4, min_samples_leaf=40, min_samples_split=50, n_estimators=100; total time=  30.6s\n",
            "[CV] END max_depth=4, min_samples_leaf=40, min_samples_split=100, n_estimators=50; total time=  16.0s\n",
            "[CV] END max_depth=4, min_samples_leaf=40, min_samples_split=100, n_estimators=50; total time=  15.5s\n",
            "[CV] END max_depth=4, min_samples_leaf=40, min_samples_split=100, n_estimators=50; total time=  15.1s\n",
            "[CV] END max_depth=4, min_samples_leaf=40, min_samples_split=100, n_estimators=50; total time=  15.0s\n",
            "[CV] END max_depth=4, min_samples_leaf=40, min_samples_split=100, n_estimators=50; total time=  15.3s\n",
            "[CV] END max_depth=4, min_samples_leaf=40, min_samples_split=100, n_estimators=80; total time=  24.2s\n",
            "[CV] END max_depth=4, min_samples_leaf=40, min_samples_split=100, n_estimators=80; total time=  24.5s\n",
            "[CV] END max_depth=4, min_samples_leaf=40, min_samples_split=100, n_estimators=80; total time=  24.2s\n",
            "[CV] END max_depth=4, min_samples_leaf=40, min_samples_split=100, n_estimators=80; total time=  24.3s\n",
            "[CV] END max_depth=4, min_samples_leaf=40, min_samples_split=100, n_estimators=80; total time=  23.2s\n",
            "[CV] END max_depth=4, min_samples_leaf=40, min_samples_split=100, n_estimators=100; total time=  28.2s\n",
            "[CV] END max_depth=4, min_samples_leaf=40, min_samples_split=100, n_estimators=100; total time=  29.9s\n",
            "[CV] END max_depth=4, min_samples_leaf=40, min_samples_split=100, n_estimators=100; total time=  28.5s\n",
            "[CV] END max_depth=4, min_samples_leaf=40, min_samples_split=100, n_estimators=100; total time=  29.4s\n",
            "[CV] END max_depth=4, min_samples_leaf=40, min_samples_split=100, n_estimators=100; total time=  28.6s\n",
            "[CV] END max_depth=4, min_samples_leaf=40, min_samples_split=150, n_estimators=50; total time=  14.1s\n",
            "[CV] END max_depth=4, min_samples_leaf=40, min_samples_split=150, n_estimators=50; total time=  14.9s\n",
            "[CV] END max_depth=4, min_samples_leaf=40, min_samples_split=150, n_estimators=50; total time=  15.0s\n",
            "[CV] END max_depth=4, min_samples_leaf=40, min_samples_split=150, n_estimators=50; total time=  14.8s\n",
            "[CV] END max_depth=4, min_samples_leaf=40, min_samples_split=150, n_estimators=50; total time=  15.2s\n",
            "[CV] END max_depth=4, min_samples_leaf=40, min_samples_split=150, n_estimators=80; total time=  25.1s\n",
            "[CV] END max_depth=4, min_samples_leaf=40, min_samples_split=150, n_estimators=80; total time=  25.9s\n",
            "[CV] END max_depth=4, min_samples_leaf=40, min_samples_split=150, n_estimators=80; total time=  25.7s\n",
            "[CV] END max_depth=4, min_samples_leaf=40, min_samples_split=150, n_estimators=80; total time=  24.5s\n",
            "[CV] END max_depth=4, min_samples_leaf=40, min_samples_split=150, n_estimators=80; total time=  24.6s\n",
            "[CV] END max_depth=4, min_samples_leaf=40, min_samples_split=150, n_estimators=100; total time=  30.3s\n",
            "[CV] END max_depth=4, min_samples_leaf=40, min_samples_split=150, n_estimators=100; total time=  30.1s\n",
            "[CV] END max_depth=4, min_samples_leaf=40, min_samples_split=150, n_estimators=100; total time=  30.5s\n",
            "[CV] END max_depth=4, min_samples_leaf=40, min_samples_split=150, n_estimators=100; total time=  29.1s\n",
            "[CV] END max_depth=4, min_samples_leaf=40, min_samples_split=150, n_estimators=100; total time=  29.7s\n",
            "[CV] END max_depth=4, min_samples_leaf=50, min_samples_split=50, n_estimators=50; total time=  15.6s\n",
            "[CV] END max_depth=4, min_samples_leaf=50, min_samples_split=50, n_estimators=50; total time=  14.9s\n",
            "[CV] END max_depth=4, min_samples_leaf=50, min_samples_split=50, n_estimators=50; total time=  14.6s\n",
            "[CV] END max_depth=4, min_samples_leaf=50, min_samples_split=50, n_estimators=50; total time=  15.5s\n",
            "[CV] END max_depth=4, min_samples_leaf=50, min_samples_split=50, n_estimators=50; total time=  15.8s\n",
            "[CV] END max_depth=4, min_samples_leaf=50, min_samples_split=50, n_estimators=80; total time=  24.3s\n",
            "[CV] END max_depth=4, min_samples_leaf=50, min_samples_split=50, n_estimators=80; total time=  24.3s\n",
            "[CV] END max_depth=4, min_samples_leaf=50, min_samples_split=50, n_estimators=80; total time=  23.4s\n",
            "[CV] END max_depth=4, min_samples_leaf=50, min_samples_split=50, n_estimators=80; total time=  23.3s\n",
            "[CV] END max_depth=4, min_samples_leaf=50, min_samples_split=50, n_estimators=80; total time=  23.6s\n",
            "[CV] END max_depth=4, min_samples_leaf=50, min_samples_split=50, n_estimators=100; total time=  30.7s\n",
            "[CV] END max_depth=4, min_samples_leaf=50, min_samples_split=50, n_estimators=100; total time=  27.9s\n",
            "[CV] END max_depth=4, min_samples_leaf=50, min_samples_split=50, n_estimators=100; total time=  28.7s\n",
            "[CV] END max_depth=4, min_samples_leaf=50, min_samples_split=50, n_estimators=100; total time=  30.1s\n",
            "[CV] END max_depth=4, min_samples_leaf=50, min_samples_split=50, n_estimators=100; total time=  30.2s\n",
            "[CV] END max_depth=4, min_samples_leaf=50, min_samples_split=100, n_estimators=50; total time=  15.4s\n",
            "[CV] END max_depth=4, min_samples_leaf=50, min_samples_split=100, n_estimators=50; total time=  15.1s\n",
            "[CV] END max_depth=4, min_samples_leaf=50, min_samples_split=100, n_estimators=50; total time=  15.8s\n",
            "[CV] END max_depth=4, min_samples_leaf=50, min_samples_split=100, n_estimators=50; total time=  15.3s\n",
            "[CV] END max_depth=4, min_samples_leaf=50, min_samples_split=100, n_estimators=50; total time=  15.3s\n",
            "[CV] END max_depth=4, min_samples_leaf=50, min_samples_split=100, n_estimators=80; total time=  23.7s\n",
            "[CV] END max_depth=4, min_samples_leaf=50, min_samples_split=100, n_estimators=80; total time=  24.3s\n",
            "[CV] END max_depth=4, min_samples_leaf=50, min_samples_split=100, n_estimators=80; total time=  24.3s\n",
            "[CV] END max_depth=4, min_samples_leaf=50, min_samples_split=100, n_estimators=80; total time=  24.1s\n",
            "[CV] END max_depth=4, min_samples_leaf=50, min_samples_split=100, n_estimators=80; total time=  24.2s\n",
            "[CV] END max_depth=4, min_samples_leaf=50, min_samples_split=100, n_estimators=100; total time=  29.9s\n",
            "[CV] END max_depth=4, min_samples_leaf=50, min_samples_split=100, n_estimators=100; total time=  30.6s\n",
            "[CV] END max_depth=4, min_samples_leaf=50, min_samples_split=100, n_estimators=100; total time=  29.6s\n",
            "[CV] END max_depth=4, min_samples_leaf=50, min_samples_split=100, n_estimators=100; total time=  29.6s\n",
            "[CV] END max_depth=4, min_samples_leaf=50, min_samples_split=100, n_estimators=100; total time=  30.3s\n",
            "[CV] END max_depth=4, min_samples_leaf=50, min_samples_split=150, n_estimators=50; total time=  15.4s\n",
            "[CV] END max_depth=4, min_samples_leaf=50, min_samples_split=150, n_estimators=50; total time=  15.4s\n",
            "[CV] END max_depth=4, min_samples_leaf=50, min_samples_split=150, n_estimators=50; total time=  14.8s\n",
            "[CV] END max_depth=4, min_samples_leaf=50, min_samples_split=150, n_estimators=50; total time=  15.2s\n",
            "[CV] END max_depth=4, min_samples_leaf=50, min_samples_split=150, n_estimators=50; total time=  15.6s\n",
            "[CV] END max_depth=4, min_samples_leaf=50, min_samples_split=150, n_estimators=80; total time=  24.7s\n",
            "[CV] END max_depth=4, min_samples_leaf=50, min_samples_split=150, n_estimators=80; total time=  24.7s\n",
            "[CV] END max_depth=4, min_samples_leaf=50, min_samples_split=150, n_estimators=80; total time=  24.7s\n",
            "[CV] END max_depth=4, min_samples_leaf=50, min_samples_split=150, n_estimators=80; total time=  24.9s\n",
            "[CV] END max_depth=4, min_samples_leaf=50, min_samples_split=150, n_estimators=80; total time=  24.8s\n",
            "[CV] END max_depth=4, min_samples_leaf=50, min_samples_split=150, n_estimators=100; total time=  31.0s\n",
            "[CV] END max_depth=4, min_samples_leaf=50, min_samples_split=150, n_estimators=100; total time=  31.1s\n",
            "[CV] END max_depth=4, min_samples_leaf=50, min_samples_split=150, n_estimators=100; total time=  35.4s\n",
            "[CV] END max_depth=4, min_samples_leaf=50, min_samples_split=150, n_estimators=100; total time=  32.3s\n",
            "[CV] END max_depth=4, min_samples_leaf=50, min_samples_split=150, n_estimators=100; total time=  31.6s\n",
            "[CV] END max_depth=6, min_samples_leaf=40, min_samples_split=50, n_estimators=50; total time=  21.1s\n",
            "[CV] END max_depth=6, min_samples_leaf=40, min_samples_split=50, n_estimators=50; total time=  19.7s\n",
            "[CV] END max_depth=6, min_samples_leaf=40, min_samples_split=50, n_estimators=50; total time=  19.8s\n",
            "[CV] END max_depth=6, min_samples_leaf=40, min_samples_split=50, n_estimators=50; total time=  21.3s\n",
            "[CV] END max_depth=6, min_samples_leaf=40, min_samples_split=50, n_estimators=50; total time=  22.6s\n",
            "[CV] END max_depth=6, min_samples_leaf=40, min_samples_split=50, n_estimators=80; total time=  36.1s\n",
            "[CV] END max_depth=6, min_samples_leaf=40, min_samples_split=50, n_estimators=80; total time=  35.1s\n",
            "[CV] END max_depth=6, min_samples_leaf=40, min_samples_split=50, n_estimators=80; total time=  34.0s\n",
            "[CV] END max_depth=6, min_samples_leaf=40, min_samples_split=50, n_estimators=80; total time=  34.8s\n",
            "[CV] END max_depth=6, min_samples_leaf=40, min_samples_split=50, n_estimators=80; total time=  34.0s\n",
            "[CV] END max_depth=6, min_samples_leaf=40, min_samples_split=50, n_estimators=100; total time=  42.4s\n",
            "[CV] END max_depth=6, min_samples_leaf=40, min_samples_split=50, n_estimators=100; total time=  43.5s\n",
            "[CV] END max_depth=6, min_samples_leaf=40, min_samples_split=50, n_estimators=100; total time=  45.1s\n",
            "[CV] END max_depth=6, min_samples_leaf=40, min_samples_split=50, n_estimators=100; total time=  44.3s\n",
            "[CV] END max_depth=6, min_samples_leaf=40, min_samples_split=50, n_estimators=100; total time=  43.9s\n",
            "[CV] END max_depth=6, min_samples_leaf=40, min_samples_split=100, n_estimators=50; total time=  22.1s\n",
            "[CV] END max_depth=6, min_samples_leaf=40, min_samples_split=100, n_estimators=50; total time=  21.8s\n",
            "[CV] END max_depth=6, min_samples_leaf=40, min_samples_split=100, n_estimators=50; total time=  21.1s\n",
            "[CV] END max_depth=6, min_samples_leaf=40, min_samples_split=100, n_estimators=50; total time=  21.6s\n",
            "[CV] END max_depth=6, min_samples_leaf=40, min_samples_split=100, n_estimators=50; total time=  21.0s\n",
            "[CV] END max_depth=6, min_samples_leaf=40, min_samples_split=100, n_estimators=80; total time=  33.2s\n",
            "[CV] END max_depth=6, min_samples_leaf=40, min_samples_split=100, n_estimators=80; total time=  34.9s\n",
            "[CV] END max_depth=6, min_samples_leaf=40, min_samples_split=100, n_estimators=80; total time=  34.3s\n",
            "[CV] END max_depth=6, min_samples_leaf=40, min_samples_split=100, n_estimators=80; total time=  34.4s\n",
            "[CV] END max_depth=6, min_samples_leaf=40, min_samples_split=100, n_estimators=80; total time=  35.1s\n",
            "[CV] END max_depth=6, min_samples_leaf=40, min_samples_split=100, n_estimators=100; total time=  43.4s\n",
            "[CV] END max_depth=6, min_samples_leaf=40, min_samples_split=100, n_estimators=100; total time=  42.5s\n",
            "[CV] END max_depth=6, min_samples_leaf=40, min_samples_split=100, n_estimators=100; total time=  42.2s\n",
            "[CV] END max_depth=6, min_samples_leaf=40, min_samples_split=100, n_estimators=100; total time=  41.8s\n",
            "[CV] END max_depth=6, min_samples_leaf=40, min_samples_split=100, n_estimators=100; total time=  41.0s\n",
            "[CV] END max_depth=6, min_samples_leaf=40, min_samples_split=150, n_estimators=50; total time=  20.3s\n",
            "[CV] END max_depth=6, min_samples_leaf=40, min_samples_split=150, n_estimators=50; total time=  20.4s\n",
            "[CV] END max_depth=6, min_samples_leaf=40, min_samples_split=150, n_estimators=50; total time=  20.8s\n",
            "[CV] END max_depth=6, min_samples_leaf=40, min_samples_split=150, n_estimators=50; total time=  21.2s\n",
            "[CV] END max_depth=6, min_samples_leaf=40, min_samples_split=150, n_estimators=50; total time=  20.7s\n",
            "[CV] END max_depth=6, min_samples_leaf=40, min_samples_split=150, n_estimators=80; total time=  33.1s\n",
            "[CV] END max_depth=6, min_samples_leaf=40, min_samples_split=150, n_estimators=80; total time=  34.0s\n",
            "[CV] END max_depth=6, min_samples_leaf=40, min_samples_split=150, n_estimators=80; total time=  33.1s\n",
            "[CV] END max_depth=6, min_samples_leaf=40, min_samples_split=150, n_estimators=80; total time=  33.3s\n",
            "[CV] END max_depth=6, min_samples_leaf=40, min_samples_split=150, n_estimators=80; total time=  33.5s\n",
            "[CV] END max_depth=6, min_samples_leaf=40, min_samples_split=150, n_estimators=100; total time=  42.7s\n",
            "[CV] END max_depth=6, min_samples_leaf=40, min_samples_split=150, n_estimators=100; total time=  41.3s\n",
            "[CV] END max_depth=6, min_samples_leaf=40, min_samples_split=150, n_estimators=100; total time=  41.7s\n",
            "[CV] END max_depth=6, min_samples_leaf=40, min_samples_split=150, n_estimators=100; total time=  39.6s\n",
            "[CV] END max_depth=6, min_samples_leaf=40, min_samples_split=150, n_estimators=100; total time=  40.1s\n",
            "[CV] END max_depth=6, min_samples_leaf=50, min_samples_split=50, n_estimators=50; total time=  19.8s\n",
            "[CV] END max_depth=6, min_samples_leaf=50, min_samples_split=50, n_estimators=50; total time=  19.5s\n",
            "[CV] END max_depth=6, min_samples_leaf=50, min_samples_split=50, n_estimators=50; total time=  19.7s\n",
            "[CV] END max_depth=6, min_samples_leaf=50, min_samples_split=50, n_estimators=50; total time=  21.1s\n",
            "[CV] END max_depth=6, min_samples_leaf=50, min_samples_split=50, n_estimators=50; total time=  21.4s\n",
            "[CV] END max_depth=6, min_samples_leaf=50, min_samples_split=50, n_estimators=80; total time=  33.2s\n",
            "[CV] END max_depth=6, min_samples_leaf=50, min_samples_split=50, n_estimators=80; total time=  31.3s\n",
            "[CV] END max_depth=6, min_samples_leaf=50, min_samples_split=50, n_estimators=80; total time=  31.7s\n",
            "[CV] END max_depth=6, min_samples_leaf=50, min_samples_split=50, n_estimators=80; total time=  31.3s\n",
            "[CV] END max_depth=6, min_samples_leaf=50, min_samples_split=50, n_estimators=80; total time=  31.4s\n",
            "[CV] END max_depth=6, min_samples_leaf=50, min_samples_split=50, n_estimators=100; total time=  38.5s\n",
            "[CV] END max_depth=6, min_samples_leaf=50, min_samples_split=50, n_estimators=100; total time=  40.2s\n",
            "[CV] END max_depth=6, min_samples_leaf=50, min_samples_split=50, n_estimators=100; total time=  41.2s\n",
            "[CV] END max_depth=6, min_samples_leaf=50, min_samples_split=50, n_estimators=100; total time=  39.6s\n",
            "[CV] END max_depth=6, min_samples_leaf=50, min_samples_split=50, n_estimators=100; total time=  40.8s\n",
            "[CV] END max_depth=6, min_samples_leaf=50, min_samples_split=100, n_estimators=50; total time=  20.5s\n",
            "[CV] END max_depth=6, min_samples_leaf=50, min_samples_split=100, n_estimators=50; total time=  20.2s\n",
            "[CV] END max_depth=6, min_samples_leaf=50, min_samples_split=100, n_estimators=50; total time=  20.5s\n",
            "[CV] END max_depth=6, min_samples_leaf=50, min_samples_split=100, n_estimators=50; total time=  19.9s\n",
            "[CV] END max_depth=6, min_samples_leaf=50, min_samples_split=100, n_estimators=50; total time=  19.1s\n",
            "[CV] END max_depth=6, min_samples_leaf=50, min_samples_split=100, n_estimators=80; total time=  32.5s\n",
            "[CV] END max_depth=6, min_samples_leaf=50, min_samples_split=100, n_estimators=80; total time=  32.1s\n",
            "[CV] END max_depth=6, min_samples_leaf=50, min_samples_split=100, n_estimators=80; total time=  31.7s\n",
            "[CV] END max_depth=6, min_samples_leaf=50, min_samples_split=100, n_estimators=80; total time=  32.1s\n",
            "[CV] END max_depth=6, min_samples_leaf=50, min_samples_split=100, n_estimators=80; total time=  31.9s\n",
            "[CV] END max_depth=6, min_samples_leaf=50, min_samples_split=100, n_estimators=100; total time=  38.5s\n",
            "[CV] END max_depth=6, min_samples_leaf=50, min_samples_split=100, n_estimators=100; total time=  39.8s\n",
            "[CV] END max_depth=6, min_samples_leaf=50, min_samples_split=100, n_estimators=100; total time=  39.8s\n",
            "[CV] END max_depth=6, min_samples_leaf=50, min_samples_split=100, n_estimators=100; total time=  39.5s\n",
            "[CV] END max_depth=6, min_samples_leaf=50, min_samples_split=100, n_estimators=100; total time=  38.7s\n",
            "[CV] END max_depth=6, min_samples_leaf=50, min_samples_split=150, n_estimators=50; total time=  18.7s\n",
            "[CV] END max_depth=6, min_samples_leaf=50, min_samples_split=150, n_estimators=50; total time=  19.3s\n",
            "[CV] END max_depth=6, min_samples_leaf=50, min_samples_split=150, n_estimators=50; total time=  19.3s\n",
            "[CV] END max_depth=6, min_samples_leaf=50, min_samples_split=150, n_estimators=50; total time=  19.5s\n",
            "[CV] END max_depth=6, min_samples_leaf=50, min_samples_split=150, n_estimators=50; total time=  19.6s\n",
            "[CV] END max_depth=6, min_samples_leaf=50, min_samples_split=150, n_estimators=80; total time=  31.8s\n",
            "[CV] END max_depth=6, min_samples_leaf=50, min_samples_split=150, n_estimators=80; total time=  30.6s\n",
            "[CV] END max_depth=6, min_samples_leaf=50, min_samples_split=150, n_estimators=80; total time=  31.4s\n",
            "[CV] END max_depth=6, min_samples_leaf=50, min_samples_split=150, n_estimators=80; total time=  31.8s\n",
            "[CV] END max_depth=6, min_samples_leaf=50, min_samples_split=150, n_estimators=80; total time=  30.9s\n",
            "[CV] END max_depth=6, min_samples_leaf=50, min_samples_split=150, n_estimators=100; total time=  38.9s\n",
            "[CV] END max_depth=6, min_samples_leaf=50, min_samples_split=150, n_estimators=100; total time=  39.4s\n",
            "[CV] END max_depth=6, min_samples_leaf=50, min_samples_split=150, n_estimators=100; total time=  38.6s\n",
            "[CV] END max_depth=6, min_samples_leaf=50, min_samples_split=150, n_estimators=100; total time=  38.9s\n",
            "[CV] END max_depth=6, min_samples_leaf=50, min_samples_split=150, n_estimators=100; total time=  38.5s\n",
            "[CV] END max_depth=8, min_samples_leaf=40, min_samples_split=50, n_estimators=50; total time=  23.7s\n",
            "[CV] END max_depth=8, min_samples_leaf=40, min_samples_split=50, n_estimators=50; total time=  25.2s\n",
            "[CV] END max_depth=8, min_samples_leaf=40, min_samples_split=50, n_estimators=50; total time=  23.5s\n",
            "[CV] END max_depth=8, min_samples_leaf=40, min_samples_split=50, n_estimators=50; total time=  23.6s\n",
            "[CV] END max_depth=8, min_samples_leaf=40, min_samples_split=50, n_estimators=50; total time=  23.5s\n",
            "[CV] END max_depth=8, min_samples_leaf=40, min_samples_split=50, n_estimators=80; total time=  38.4s\n",
            "[CV] END max_depth=8, min_samples_leaf=40, min_samples_split=50, n_estimators=80; total time=  39.5s\n",
            "[CV] END max_depth=8, min_samples_leaf=40, min_samples_split=50, n_estimators=80; total time=  38.7s\n",
            "[CV] END max_depth=8, min_samples_leaf=40, min_samples_split=50, n_estimators=80; total time=  39.6s\n",
            "[CV] END max_depth=8, min_samples_leaf=40, min_samples_split=50, n_estimators=80; total time=  39.1s\n",
            "[CV] END max_depth=8, min_samples_leaf=40, min_samples_split=50, n_estimators=100; total time=  48.2s\n",
            "[CV] END max_depth=8, min_samples_leaf=40, min_samples_split=50, n_estimators=100; total time=  48.3s\n",
            "[CV] END max_depth=8, min_samples_leaf=40, min_samples_split=50, n_estimators=100; total time=  48.5s\n",
            "[CV] END max_depth=8, min_samples_leaf=40, min_samples_split=50, n_estimators=100; total time=  48.0s\n",
            "[CV] END max_depth=8, min_samples_leaf=40, min_samples_split=50, n_estimators=100; total time=  48.7s\n",
            "[CV] END max_depth=8, min_samples_leaf=40, min_samples_split=100, n_estimators=50; total time=  24.4s\n",
            "[CV] END max_depth=8, min_samples_leaf=40, min_samples_split=100, n_estimators=50; total time=  24.3s\n",
            "[CV] END max_depth=8, min_samples_leaf=40, min_samples_split=100, n_estimators=50; total time=  24.6s\n",
            "[CV] END max_depth=8, min_samples_leaf=40, min_samples_split=100, n_estimators=50; total time=  24.1s\n",
            "[CV] END max_depth=8, min_samples_leaf=40, min_samples_split=100, n_estimators=50; total time=  24.0s\n",
            "[CV] END max_depth=8, min_samples_leaf=40, min_samples_split=100, n_estimators=80; total time=  38.1s\n",
            "[CV] END max_depth=8, min_samples_leaf=40, min_samples_split=100, n_estimators=80; total time=  37.9s\n",
            "[CV] END max_depth=8, min_samples_leaf=40, min_samples_split=100, n_estimators=80; total time=  37.7s\n",
            "[CV] END max_depth=8, min_samples_leaf=40, min_samples_split=100, n_estimators=80; total time=  36.8s\n",
            "[CV] END max_depth=8, min_samples_leaf=40, min_samples_split=100, n_estimators=80; total time=  38.0s\n",
            "[CV] END max_depth=8, min_samples_leaf=40, min_samples_split=100, n_estimators=100; total time=  47.6s\n",
            "[CV] END max_depth=8, min_samples_leaf=40, min_samples_split=100, n_estimators=100; total time=  47.3s\n",
            "[CV] END max_depth=8, min_samples_leaf=40, min_samples_split=100, n_estimators=100; total time=  47.3s\n",
            "[CV] END max_depth=8, min_samples_leaf=40, min_samples_split=100, n_estimators=100; total time=  46.5s\n",
            "[CV] END max_depth=8, min_samples_leaf=40, min_samples_split=100, n_estimators=100; total time=  46.6s\n",
            "[CV] END max_depth=8, min_samples_leaf=40, min_samples_split=150, n_estimators=50; total time=  23.9s\n",
            "[CV] END max_depth=8, min_samples_leaf=40, min_samples_split=150, n_estimators=50; total time=  23.7s\n",
            "[CV] END max_depth=8, min_samples_leaf=40, min_samples_split=150, n_estimators=50; total time=  24.0s\n",
            "[CV] END max_depth=8, min_samples_leaf=40, min_samples_split=150, n_estimators=50; total time=  24.0s\n",
            "[CV] END max_depth=8, min_samples_leaf=40, min_samples_split=150, n_estimators=50; total time=  23.5s\n",
            "[CV] END max_depth=8, min_samples_leaf=40, min_samples_split=150, n_estimators=80; total time=  37.4s\n",
            "[CV] END max_depth=8, min_samples_leaf=40, min_samples_split=150, n_estimators=80; total time=  37.2s\n",
            "[CV] END max_depth=8, min_samples_leaf=40, min_samples_split=150, n_estimators=80; total time=  36.5s\n",
            "[CV] END max_depth=8, min_samples_leaf=40, min_samples_split=150, n_estimators=80; total time=  38.4s\n",
            "[CV] END max_depth=8, min_samples_leaf=40, min_samples_split=150, n_estimators=80; total time=  38.3s\n",
            "[CV] END max_depth=8, min_samples_leaf=40, min_samples_split=150, n_estimators=100; total time=  48.8s\n",
            "[CV] END max_depth=8, min_samples_leaf=40, min_samples_split=150, n_estimators=100; total time=  49.0s\n",
            "[CV] END max_depth=8, min_samples_leaf=40, min_samples_split=150, n_estimators=100; total time=  48.7s\n",
            "[CV] END max_depth=8, min_samples_leaf=40, min_samples_split=150, n_estimators=100; total time=  48.5s\n",
            "[CV] END max_depth=8, min_samples_leaf=40, min_samples_split=150, n_estimators=100; total time=  49.2s\n",
            "[CV] END max_depth=8, min_samples_leaf=50, min_samples_split=50, n_estimators=50; total time=  24.3s\n",
            "[CV] END max_depth=8, min_samples_leaf=50, min_samples_split=50, n_estimators=50; total time=  24.3s\n",
            "[CV] END max_depth=8, min_samples_leaf=50, min_samples_split=50, n_estimators=50; total time=  25.0s\n",
            "[CV] END max_depth=8, min_samples_leaf=50, min_samples_split=50, n_estimators=50; total time=  24.5s\n",
            "[CV] END max_depth=8, min_samples_leaf=50, min_samples_split=50, n_estimators=50; total time=  24.2s\n",
            "[CV] END max_depth=8, min_samples_leaf=50, min_samples_split=50, n_estimators=80; total time=  38.5s\n",
            "[CV] END max_depth=8, min_samples_leaf=50, min_samples_split=50, n_estimators=80; total time=  39.3s\n",
            "[CV] END max_depth=8, min_samples_leaf=50, min_samples_split=50, n_estimators=80; total time=  39.4s\n",
            "[CV] END max_depth=8, min_samples_leaf=50, min_samples_split=50, n_estimators=80; total time=  40.1s\n",
            "[CV] END max_depth=8, min_samples_leaf=50, min_samples_split=50, n_estimators=80; total time=  39.3s\n",
            "[CV] END max_depth=8, min_samples_leaf=50, min_samples_split=50, n_estimators=100; total time=  48.6s\n",
            "[CV] END max_depth=8, min_samples_leaf=50, min_samples_split=50, n_estimators=100; total time=  48.5s\n",
            "[CV] END max_depth=8, min_samples_leaf=50, min_samples_split=50, n_estimators=100; total time=  49.1s\n",
            "[CV] END max_depth=8, min_samples_leaf=50, min_samples_split=50, n_estimators=100; total time=  49.2s\n",
            "[CV] END max_depth=8, min_samples_leaf=50, min_samples_split=50, n_estimators=100; total time=  48.7s\n",
            "[CV] END max_depth=8, min_samples_leaf=50, min_samples_split=100, n_estimators=50; total time=  24.4s\n",
            "[CV] END max_depth=8, min_samples_leaf=50, min_samples_split=100, n_estimators=50; total time=  24.5s\n",
            "[CV] END max_depth=8, min_samples_leaf=50, min_samples_split=100, n_estimators=50; total time=  24.7s\n",
            "[CV] END max_depth=8, min_samples_leaf=50, min_samples_split=100, n_estimators=50; total time=  24.9s\n",
            "[CV] END max_depth=8, min_samples_leaf=50, min_samples_split=100, n_estimators=50; total time=  24.8s\n",
            "[CV] END max_depth=8, min_samples_leaf=50, min_samples_split=100, n_estimators=80; total time=  39.6s\n",
            "[CV] END max_depth=8, min_samples_leaf=50, min_samples_split=100, n_estimators=80; total time=  40.2s\n",
            "[CV] END max_depth=8, min_samples_leaf=50, min_samples_split=100, n_estimators=80; total time=  39.1s\n",
            "[CV] END max_depth=8, min_samples_leaf=50, min_samples_split=100, n_estimators=80; total time=  38.8s\n",
            "[CV] END max_depth=8, min_samples_leaf=50, min_samples_split=100, n_estimators=80; total time=  38.7s\n",
            "[CV] END max_depth=8, min_samples_leaf=50, min_samples_split=100, n_estimators=100; total time=  48.3s\n",
            "[CV] END max_depth=8, min_samples_leaf=50, min_samples_split=100, n_estimators=100; total time=  48.8s\n",
            "[CV] END max_depth=8, min_samples_leaf=50, min_samples_split=100, n_estimators=100; total time=  49.2s\n",
            "[CV] END max_depth=8, min_samples_leaf=50, min_samples_split=100, n_estimators=100; total time=  49.2s\n",
            "[CV] END max_depth=8, min_samples_leaf=50, min_samples_split=100, n_estimators=100; total time=  48.7s\n",
            "[CV] END max_depth=8, min_samples_leaf=50, min_samples_split=150, n_estimators=50; total time=  24.4s\n",
            "[CV] END max_depth=8, min_samples_leaf=50, min_samples_split=150, n_estimators=50; total time=  23.9s\n",
            "[CV] END max_depth=8, min_samples_leaf=50, min_samples_split=150, n_estimators=50; total time=  24.5s\n",
            "[CV] END max_depth=8, min_samples_leaf=50, min_samples_split=150, n_estimators=50; total time=  24.5s\n",
            "[CV] END max_depth=8, min_samples_leaf=50, min_samples_split=150, n_estimators=50; total time=  24.3s\n",
            "[CV] END max_depth=8, min_samples_leaf=50, min_samples_split=150, n_estimators=80; total time=  39.5s\n",
            "[CV] END max_depth=8, min_samples_leaf=50, min_samples_split=150, n_estimators=80; total time=  37.9s\n",
            "[CV] END max_depth=8, min_samples_leaf=50, min_samples_split=150, n_estimators=80; total time=  39.4s\n",
            "[CV] END max_depth=8, min_samples_leaf=50, min_samples_split=150, n_estimators=80; total time=  39.2s\n",
            "[CV] END max_depth=8, min_samples_leaf=50, min_samples_split=150, n_estimators=80; total time=  39.0s\n",
            "[CV] END max_depth=8, min_samples_leaf=50, min_samples_split=150, n_estimators=100; total time=  49.6s\n",
            "[CV] END max_depth=8, min_samples_leaf=50, min_samples_split=150, n_estimators=100; total time=  49.5s\n",
            "[CV] END max_depth=8, min_samples_leaf=50, min_samples_split=150, n_estimators=100; total time=  49.4s\n",
            "[CV] END max_depth=8, min_samples_leaf=50, min_samples_split=150, n_estimators=100; total time=  50.1s\n",
            "[CV] END max_depth=8, min_samples_leaf=50, min_samples_split=150, n_estimators=100; total time=  49.9s\n"
          ]
        },
        {
          "output_type": "execute_result",
          "data": {
            "text/plain": [
              "GridSearchCV(cv=5, estimator=RandomForestClassifier(),\n",
              "             param_grid={'max_depth': [4, 6, 8], 'min_samples_leaf': [40, 50],\n",
              "                         'min_samples_split': [50, 100, 150],\n",
              "                         'n_estimators': [50, 80, 100]},\n",
              "             scoring='roc_auc', verbose=2)"
            ]
          },
          "metadata": {},
          "execution_count": 143
        }
      ]
    },
    {
      "cell_type": "code",
      "metadata": {
        "colab": {
          "base_uri": "https://localhost:8080/"
        },
        "id": "gavuNY6h22VO",
        "outputId": "79cba6ee-8577-4640-c1a4-eeef5dbe185b"
      },
      "source": [
        "# best parameters\n",
        "rf_grid.best_estimator_"
      ],
      "execution_count": 144,
      "outputs": [
        {
          "output_type": "execute_result",
          "data": {
            "text/plain": [
              "RandomForestClassifier(max_depth=8, min_samples_leaf=50, min_samples_split=150)"
            ]
          },
          "metadata": {},
          "execution_count": 144
        }
      ]
    },
    {
      "cell_type": "code",
      "metadata": {
        "colab": {
          "base_uri": "https://localhost:8080/"
        },
        "id": "wiTwmyTsDG-P",
        "outputId": "1fd88dc7-9847-4349-c7c8-41a37fde4b84"
      },
      "source": [
        "# training on the best parameters\n",
        "rf_optimal_model = RandomForestClassifier(max_depth=8, min_samples_leaf=50, min_samples_split=150)\n",
        "rf_optimal_model.fit(x_train_sm,y_train_sm)"
      ],
      "execution_count": 147,
      "outputs": [
        {
          "data": {
            "text/plain": [
              "RandomForestClassifier(max_depth=8, min_samples_leaf=50, min_samples_split=150)"
            ]
          },
          "execution_count": null,
          "metadata": {},
          "output_type": "execute_result"
        }
      ]
    },
    {
      "cell_type": "code",
      "metadata": {
        "id": "umL8FQZzDOAf"
      },
      "source": [
        "# Making predictions on train and test data\n",
        "\n",
        "train_class_preds = rf_optimal_model.predict(x_train_sm)\n",
        "test_class_preds = rf_optimal_model.predict(x_test_sm)"
      ],
      "execution_count": 148,
      "outputs": []
    },
    {
      "cell_type": "code",
      "metadata": {
        "id": "w-obf6vzDTg0"
      },
      "source": [
        "# Get the probabilities on train and test\n",
        "train_preds = rf_optimal_model.predict_proba(x_train_sm)[:,1]\n",
        "test_preds = rf_optimal_model.predict_proba(x_test_sm)[:,1]"
      ],
      "execution_count": 149,
      "outputs": []
    },
    {
      "cell_type": "code",
      "metadata": {
        "id": "5ULHxqL3DZPd",
        "colab": {
          "base_uri": "https://localhost:8080/"
        },
        "outputId": "f4223bcf-d02a-4596-8bd4-73decdab0e17"
      },
      "source": [
        "len(train_preds)"
      ],
      "execution_count": 150,
      "outputs": [
        {
          "output_type": "execute_result",
          "data": {
            "text/plain": [
              "534648"
            ]
          },
          "metadata": {},
          "execution_count": 150
        }
      ]
    },
    {
      "cell_type": "code",
      "metadata": {
        "id": "-yHhLg78Ddyd",
        "colab": {
          "base_uri": "https://localhost:8080/"
        },
        "outputId": "429fbf14-f12f-436f-9284-2346a78ceec5"
      },
      "source": [
        "# Calculating accuracy on train and test\n",
        "train_accuracy = accuracy_score(y_train_sm,train_class_preds)\n",
        "test_accuracy = accuracy_score(y_test_sm,test_class_preds)\n",
        "\n",
        "print(\"The accuracy on train dataset is\", train_accuracy)\n",
        "print(\"The accuracy on test dataset is\", test_accuracy)\n",
        "\n",
        "rf_precision = precision_score(y_test_sm, test_class_preds)\n",
        "rf_recall = recall_score(y_test_sm, test_class_preds)\n",
        "print(\"Precision:\",(rf_precision))\n",
        "print(\"Recall:\",(rf_recall))\n",
        "\n",
        "# Get the roc_auc score for train and test dataset\n",
        "train_auc = roc_auc_score(y_train_sm,train_preds)\n",
        "test_auc = roc_auc_score(y_test_sm,test_preds)\n",
        "print(\"Train ROC-AUC:\",train_auc)\n",
        "print(\"Test ROC-AUC:\",test_auc)"
      ],
      "execution_count": 164,
      "outputs": [
        {
          "output_type": "stream",
          "name": "stdout",
          "text": [
            "The accuracy on train dataset is 0.812439212341578\n",
            "The accuracy on test dataset is 0.812437341952088\n",
            "Precision: 0.7401918646632053\n",
            "Recall: 0.9641401549646925\n",
            "Train ROC-AUC: 0.882024889206292\n",
            "Test ROC-AUC: 0.8806527726592697\n"
          ]
        }
      ]
    },
    {
      "cell_type": "code",
      "metadata": {
        "id": "16j2zirJDkSM",
        "colab": {
          "base_uri": "https://localhost:8080/"
        },
        "outputId": "761df59d-f847-4189-daf7-fac55b6db993"
      },
      "source": [
        "# Get the confusion matrices for train and test\n",
        "train_cm = confusion_matrix(y_train_sm,train_class_preds)\n",
        "test_cm = confusion_matrix(y_test_sm,test_class_preds )\n",
        "print(\"Train CM:\\n\",train_cm,\"\\n\")\n",
        "print(\"Test CM:\\n\",test_cm)\n"
      ],
      "execution_count": 168,
      "outputs": [
        {
          "output_type": "stream",
          "name": "stdout",
          "text": [
            "Train CM:\n",
            " [[176415  91061]\n",
            " [  9218 257954]] \n",
            "\n",
            "Test CM:\n",
            " [[44011 22668]\n",
            " [ 2402 64581]]\n"
          ]
        }
      ]
    },
    {
      "cell_type": "markdown",
      "metadata": {
        "id": "5EpnkV2WfN4j"
      },
      "source": [
        "#Logistic Regression Model"
      ]
    },
    {
      "cell_type": "code",
      "metadata": {
        "colab": {
          "base_uri": "https://localhost:8080/"
        },
        "id": "rHU-va8dfR7j",
        "outputId": "f7407894-0ef6-40ff-914f-89067209755c"
      },
      "source": [
        "from sklearn.linear_model import LogisticRegression\n",
        "from sklearn.metrics import roc_auc_score, precision_score, recall_score, accuracy_score\n",
        "from sklearn.model_selection import cross_val_score\n",
        "\n",
        "log_reg = LogisticRegression(random_state=123)\n",
        "log_reg.fit(x_train_sm, y_train_sm)\n",
        "\n",
        "accuracy_train_logreg, accuracy_test_logreg = log_reg.score(x_train_sm, y_train_sm),log_reg.score(x_test_sm, y_test_sm)\n",
        "\n",
        "print('Accuracy on Train Data : {:.3f}'.format(accuracy_train_logreg)) \n",
        "print('Accuracy on Test Data  : {:.3f}'.format(accuracy_test_logreg))"
      ],
      "execution_count": 30,
      "outputs": [
        {
          "output_type": "stream",
          "name": "stdout",
          "text": [
            "Accuracy on Train Data : 0.783\n",
            "Accuracy on Test Data  : 0.783\n"
          ]
        }
      ]
    },
    {
      "cell_type": "markdown",
      "metadata": {
        "id": "62e9q1eqginm"
      },
      "source": [
        "##Hyperparameter Tuning"
      ]
    },
    {
      "cell_type": "code",
      "metadata": {
        "colab": {
          "base_uri": "https://localhost:8080/"
        },
        "id": "VbNeap7oghrh",
        "outputId": "8b23e557-6bfc-4e78-af1f-7a137c351164"
      },
      "source": [
        "from sklearn.model_selection import GridSearchCV\n",
        "\n",
        "parameters = {\"C\": [1e-06, 1e-05, 1e-04, 1e-03],\n",
        "              \"penalty\": ['l1','l2'],\n",
        "              \"max_iter\":[400,450,500]\n",
        "             }\n",
        "\n",
        "grid_cv = GridSearchCV(estimator=log_reg, param_grid=parameters, cv=3)\n",
        "grid_cv.fit(x_train_sm, y_train_sm)"
      ],
      "execution_count": 31,
      "outputs": [
        {
          "output_type": "execute_result",
          "data": {
            "text/plain": [
              "GridSearchCV(cv=3, estimator=LogisticRegression(random_state=123),\n",
              "             param_grid={'C': [1e-06, 1e-05, 0.0001, 0.001],\n",
              "                         'max_iter': [400, 450, 500], 'penalty': ['l1', 'l2']})"
            ]
          },
          "metadata": {},
          "execution_count": 31
        }
      ]
    },
    {
      "cell_type": "code",
      "metadata": {
        "colab": {
          "base_uri": "https://localhost:8080/"
        },
        "id": "vmNW6hIBiSAe",
        "outputId": "80c47d3e-614a-4174-baa0-458f966d06b2"
      },
      "source": [
        "# getting the best parameters\n",
        "best_params = grid_cv.best_params_\n",
        "print('Best parameters: ',best_params)"
      ],
      "execution_count": 32,
      "outputs": [
        {
          "output_type": "stream",
          "name": "stdout",
          "text": [
            "Best parameters:  {'C': 1e-05, 'max_iter': 400, 'penalty': 'l2'}\n"
          ]
        }
      ]
    },
    {
      "cell_type": "code",
      "metadata": {
        "id": "XUiqpZp7ia5t"
      },
      "source": [
        "# getting the optimal model\n",
        "lr_optimal_model = grid_cv.best_params_"
      ],
      "execution_count": 33,
      "outputs": []
    },
    {
      "cell_type": "code",
      "metadata": {
        "colab": {
          "base_uri": "https://localhost:8080/"
        },
        "id": "PFOY2Xo1ikdY",
        "outputId": "68362207-b847-4091-b1c2-f4d863582831"
      },
      "source": [
        "# Making predictions on train and test data\n",
        "\n",
        "lr_clf = LogisticRegression(**lr_optimal_model, random_state=123)\n",
        "lr_clf.fit(x_train_sm, y_train_sm)\n",
        "\n",
        "train_prediction_proba = lr_clf.predict_proba(x_train_sm)[:,1]\n",
        "test_prediction_proba = lr_clf.predict_proba(x_test_sm)[:,1]\n",
        "# Get the roc_auc score for train and test dataset\n",
        "lr_train_auc = roc_auc_score(y_train_sm,train_prediction_proba)\n",
        "lr_test_auc = roc_auc_score(y_test_sm,test_prediction_proba)\n",
        "print(\"Train ROC-AUC:\",lr_train_auc)\n",
        "print(\"Test ROC-AUC:\",lr_test_auc)\n",
        "\n",
        "y_pred_lr = lr_clf.predict(x_test_sm)\n",
        "lr_precision = precision_score(y_test_sm, y_pred_lr)\n",
        "lr_recall = recall_score(y_test_sm, y_pred_lr)\n",
        "print(\"Precision: {:.2f}%\".format(lr_precision))\n",
        "print(\"Recall: {:.2f}%\".format(lr_recall))\n",
        "\n",
        "# lr_train_acc, lr_test_acc = print_score(lr_clf)\n",
        "pred_train = lr_clf.predict(x_train_sm)\n",
        "train_acc = accuracy_score(y_train_sm, pred_train)\n",
        "print(\"Train Accuracy: {:.2f}%\".format(train_acc * 100))\n",
        "    \n",
        "pred_test = lr_clf.predict(x_test_sm)\n",
        "test_acc = accuracy_score(y_test_sm, pred_test)\n",
        "print(\"Test Accuracy: {:.2f}%\".format(test_acc * 100))"
      ],
      "execution_count": 163,
      "outputs": [
        {
          "output_type": "stream",
          "name": "stdout",
          "text": [
            "Train ROC-AUC: 0.8135401287145689\n",
            "Test ROC-AUC: 0.8144632398090479\n",
            "Precision: 0.71%\n",
            "Recall: 0.97%\n",
            "Train Accuracy: 78.78%\n",
            "Test Accuracy: 78.82%\n"
          ]
        }
      ]
    },
    {
      "cell_type": "code",
      "metadata": {
        "colab": {
          "base_uri": "https://localhost:8080/",
          "height": 374
        },
        "id": "kFHhapkqhTKh",
        "outputId": "02af1c8c-c9cd-40c4-9053-5e9514b483ae"
      },
      "source": [
        "# calculating the Euler's Number to the power of it's coefficient to get the feature importance\n",
        "import math\n",
        "feature_importance = pd.DataFrame(X.columns,columns=['Feature'])\n",
        "feature_importance['importance']= pow(math.e,lr_clf.coef_[0])\n",
        "feature_importance = feature_importance.sort_values(by='importance', ascending=False)\n",
        "\n",
        "feature_importance.plot.barh(x='Feature', y='importance',figsize=(10,6));"
      ],
      "execution_count": 128,
      "outputs": [
        {
          "output_type": "display_data",
          "data": {
            "image/png": "[encoded data removed]",
            "text/plain": [
              "<Figure size 720x432 with 1 Axes>"
            ]
          },
          "metadata": {
            "needs_background": "light"
          }
        }
      ]
    },
    {
      "cell_type": "markdown",
      "metadata": {
        "id": "4PJOVlfAlJ4J"
      },
      "source": [
        "* **Most important feature according to Logistic Regression Model is Vehicle Damage followed by Age**"
      ]
    },
    {
      "cell_type": "markdown",
      "metadata": {
        "id": "hmzVNmHxH7kX"
      },
      "source": [
        "#XGBClassifier"
      ]
    },
    {
      "cell_type": "code",
      "metadata": {
        "id": "wHrjMjZ1bL0s"
      },
      "source": [
        "# Number of trees\n",
        "n_estimators = [50,80,100]\n",
        "\n",
        "# Maximum depth of trees\n",
        "max_depth = [4,6,8]\n",
        "\n",
        "# Minimum number of samples required to split a node\n",
        "min_samples_split = [50,100,150]\n",
        "\n",
        "# Minimum number of samples required at each leaf node\n",
        "min_samples_leaf = [40,50]\n",
        "\n",
        "# HYperparameter Grid\n",
        "param_dict = {'n_estimators' : n_estimators,\n",
        "              'max_depth' : max_depth,\n",
        "              'min_samples_split' : min_samples_split,\n",
        "              'min_samples_leaf' : min_samples_leaf}"
      ],
      "execution_count": null,
      "outputs": []
    },
    {
      "cell_type": "code",
      "metadata": {
        "id": "Jclfqjs1QmgC"
      },
      "source": [
        "xgb = XGBClassifier()"
      ],
      "execution_count": 38,
      "outputs": []
    },
    {
      "cell_type": "code",
      "metadata": {
        "colab": {
          "base_uri": "https://localhost:8080/"
        },
        "id": "-UanoJGILvpc",
        "outputId": "dec3fd6a-b105-465f-b404-d3da73a5a5c0"
      },
      "source": [
        "# Fitting the data\n",
        "\n",
        "xgb = XGBClassifier(random_state=123,max_depth=8)\n",
        "xgb.fit(x_train_sm, y_train_sm)"
      ],
      "execution_count": 175,
      "outputs": [
        {
          "output_type": "execute_result",
          "data": {
            "text/plain": [
              "XGBClassifier(max_depth=8, random_state=123)"
            ]
          },
          "metadata": {},
          "execution_count": 175
        }
      ]
    },
    {
      "cell_type": "code",
      "metadata": {
        "colab": {
          "base_uri": "https://localhost:8080/"
        },
        "id": "4Qr6jjDQcVVV",
        "outputId": "b55e3e34-02c4-434d-cf8a-5a0ccdaf8592"
      },
      "source": [
        "#Print model report:\n",
        "y_pred_xgb = xgb.predict(x_test_sm)\n",
        "xgb_precision = precision_score(y_test_sm, y_pred_xgb)\n",
        "xgb_recall = recall_score(y_test_sm, y_pred_xgb)\n",
        "print(\"Precision: {:.2f}%\".format(xgb_precision))\n",
        "print(\"Recall: {:.2f}%\".format(xgb_recall))\n",
        "\n",
        "\n",
        "pred_train_xgb = xgb.predict(x_train_sm)\n",
        "train_acc_xgb = accuracy_score(y_train_sm, pred_train_xgb)\n",
        "print(\"Train Accuracy: {:.2f}%\".format(train_acc_xgb * 100))\n",
        "    \n",
        "pred_test_xgb = xgb.predict(x_test_sm)\n",
        "test_acc_xgb = accuracy_score(y_test_sm, pred_test_xgb)\n",
        "print(\"Test Accuracy: {:.2f}%\".format(test_acc_xgb * 100))\n",
        "\n",
        "\n",
        "train_pred_proba = xgb.predict_proba(x_train_sm)[:,1]\n",
        "xgb_auc_train = roc_auc_score(y_train_sm, train_pred_proba)\n",
        "print(\"Train AUC:\" , xgb_auc_train )\n",
        "\n",
        "test_pred_proba = xgb.predict_proba(x_test_sm)[:,1]\n",
        "xgb_auc_test = roc_auc_score(y_test_sm, test_pred_proba)\n",
        "print(\"Test AUC:\" , xgb_auc_test )"
      ],
      "execution_count": 176,
      "outputs": [
        {
          "output_type": "stream",
          "name": "stdout",
          "text": [
            "Precision: 0.82%\n",
            "Recall: 0.94%\n",
            "Train Accuracy: 86.87%\n",
            "Test Accuracy: 86.52%\n",
            "Train AUC: 0.95973893072446\n",
            "Test AUC: 0.9573382215796878\n"
          ]
        }
      ]
    },
    {
      "cell_type": "code",
      "metadata": {
        "colab": {
          "base_uri": "https://localhost:8080/",
          "height": 506
        },
        "id": "TFu8E0DpcoMM",
        "outputId": "1df4a699-4d38-4478-d6d9-f4d6a212f391"
      },
      "source": [
        "# Getting the Feature importance \n",
        "plt.figure(figsize=(10,6))\n",
        "sns.barplot(X.columns,xgb.feature_importances_)\n",
        "plt.xticks(rotation=90)"
      ],
      "execution_count": 102,
      "outputs": [
        {
          "output_type": "execute_result",
          "data": {
            "text/plain": [
              "(array([0, 1, 2, 3, 4, 5, 6, 7, 8]),\n",
              " <a list of 9 Text major ticklabel objects>)"
            ]
          },
          "metadata": {},
          "execution_count": 102
        },
        {
          "output_type": "display_data",
          "data": {
            "image/png": "[encoded data removed]",
            "text/plain": [
              "<Figure size 720x432 with 1 Axes>"
            ]
          },
          "metadata": {
            "needs_background": "light"
          }
        }
      ]
    },
    {
      "cell_type": "markdown",
      "metadata": {
        "id": "ipnLhiz_eRzY"
      },
      "source": [
        "* **Previously Insured and Vehicle Damage are most important features according to XGB Model**"
      ]
    },
    {
      "cell_type": "markdown",
      "metadata": {
        "id": "j5tx1ElDXB8J"
      },
      "source": [
        "#Naive-Bayes Classifier"
      ]
    },
    {
      "cell_type": "markdown",
      "metadata": {
        "id": "TfVIdpx2brms"
      },
      "source": [
        "### 1. GaussianNB Classifier"
      ]
    },
    {
      "cell_type": "code",
      "metadata": {
        "id": "_dHLlwVyUfZD"
      },
      "source": [
        "from sklearn.naive_bayes import GaussianNB\n",
        "NB_model = GaussianNB().fit(x_train_sm,y_train_sm)"
      ],
      "execution_count": 41,
      "outputs": []
    },
    {
      "cell_type": "code",
      "metadata": {
        "id": "yBPMr63pUt1U"
      },
      "source": [
        "train_preds_nb = NB_model.predict(x_train_sm)\n",
        "test_preds_nb = NB_model.predict(x_test_sm)"
      ],
      "execution_count": 42,
      "outputs": []
    },
    {
      "cell_type": "code",
      "metadata": {
        "id": "PdxLymBQU6dS"
      },
      "source": [
        "from sklearn.metrics import classification_report,confusion_matrix"
      ],
      "execution_count": 43,
      "outputs": []
    },
    {
      "cell_type": "code",
      "metadata": {
        "colab": {
          "base_uri": "https://localhost:8080/"
        },
        "id": "EcBYJ6yUVeNK",
        "outputId": "ea8e6c8a-da25-422b-a580-1d565a05f8d2"
      },
      "source": [
        "print(confusion_matrix(y_train_sm,train_preds_nb))\n",
        "print(confusion_matrix(y_test_sm,test_preds_nb))"
      ],
      "execution_count": 44,
      "outputs": [
        {
          "output_type": "stream",
          "name": "stdout",
          "text": [
            "[[158028 109448]\n",
            " [  6115 261057]]\n",
            "[[39409 27270]\n",
            " [ 1564 65419]]\n"
          ]
        }
      ]
    },
    {
      "cell_type": "code",
      "metadata": {
        "colab": {
          "base_uri": "https://localhost:8080/"
        },
        "id": "6Gx-uRGcs6iG",
        "outputId": "449ed4e0-f157-49ac-b0a4-ca2b7f176305"
      },
      "source": [
        "\n",
        "train_acc_nb = accuracy_score(y_train_sm, train_preds_nb)\n",
        "print(\"Train Accuracy: {:.2f}%\".format(train_acc_nb * 100))\n",
        "\n",
        "test_acc_nb = accuracy_score(y_test_sm, test_preds_nb)\n",
        "print(\"Test Accuracy: {:.2f}%\".format(test_acc_nb * 100))\n",
        "\n",
        "\n",
        "\n",
        "nb_precision = precision_score(y_test_sm, test_preds_nb)\n",
        "nb_recall = recall_score(y_test_sm, test_preds_nb)\n",
        "print(\"Precision:\",(xgb_precision))\n",
        "print(\"Recall:\", (xgb_recall))\n"
      ],
      "execution_count": 138,
      "outputs": [
        {
          "output_type": "stream",
          "name": "stdout",
          "text": [
            "Train Accuracy: 78.39%\n",
            "Test Accuracy: 78.43%\n",
            "Precision: 0.7524809451667078\n",
            "Recall: 0.956556141110431\n"
          ]
        }
      ]
    },
    {
      "cell_type": "code",
      "metadata": {
        "colab": {
          "base_uri": "https://localhost:8080/"
        },
        "id": "rDJLvMcIU95C",
        "outputId": "4fca9303-2fa2-48be-ff0f-4264965d7656"
      },
      "source": [
        "print(classification_report(y_train_sm,train_preds_nb))\n",
        "print(\"\\n\")\n",
        "print(classification_report(y_test_sm,test_preds_nb))\n",
        "\n",
        "train_pred_proba_nb = NB_model.predict_proba(x_train_sm)[:,1]\n",
        "nb_auc_train = roc_auc_score(y_train_sm, train_pred_proba_nb)\n",
        "print(\"Train AUC:\" , nb_auc_train )\n",
        "\n",
        "test_pred_proba_nb = NB_model.predict_proba(x_test_sm)[:,1]\n",
        "nb_auc_test = roc_auc_score(y_test_sm, test_pred_proba_nb)\n",
        "print(\"Test AUC:\" , nb_auc_test )"
      ],
      "execution_count": 45,
      "outputs": [
        {
          "output_type": "stream",
          "name": "stdout",
          "text": [
            "              precision    recall  f1-score   support\n",
            "\n",
            "           0       0.96      0.59      0.73    267476\n",
            "           1       0.70      0.98      0.82    267172\n",
            "\n",
            "    accuracy                           0.78    534648\n",
            "   macro avg       0.83      0.78      0.78    534648\n",
            "weighted avg       0.83      0.78      0.78    534648\n",
            "\n",
            "\n",
            "\n",
            "              precision    recall  f1-score   support\n",
            "\n",
            "           0       0.96      0.59      0.73     66679\n",
            "           1       0.71      0.98      0.82     66983\n",
            "\n",
            "    accuracy                           0.78    133662\n",
            "   macro avg       0.83      0.78      0.78    133662\n",
            "weighted avg       0.83      0.78      0.78    133662\n",
            "\n",
            "Train AUC: 0.826447065083161\n",
            "Test AUC: 0.8269268145696407\n"
          ]
        }
      ]
    },
    {
      "cell_type": "markdown",
      "metadata": {
        "id": "fBGa_UxdXKYI"
      },
      "source": [
        "### 2. MultiNomial Classifier"
      ]
    },
    {
      "cell_type": "code",
      "metadata": {
        "id": "mv-lQ71YVNvn"
      },
      "source": [
        "from sklearn.naive_bayes import MultinomialNB\n",
        "MN_model = MultinomialNB().fit(x_train_sm,y_train_sm)"
      ],
      "execution_count": 46,
      "outputs": []
    },
    {
      "cell_type": "code",
      "metadata": {
        "id": "ruXIXMaVVX6R"
      },
      "source": [
        "train_preds_mn = MN_model.predict(x_train_sm)\n",
        "test_preds_mn = MN_model.predict(x_test_sm)"
      ],
      "execution_count": 47,
      "outputs": []
    },
    {
      "cell_type": "code",
      "metadata": {
        "colab": {
          "base_uri": "https://localhost:8080/"
        },
        "id": "2RF63yWXVbUw",
        "outputId": "63d28e7a-54d9-40d9-ab26-0c377d99dcf5"
      },
      "source": [
        "print(confusion_matrix(y_train_sm,train_preds_mn))\n",
        "print(confusion_matrix(y_test_sm,test_preds_mn))"
      ],
      "execution_count": 48,
      "outputs": [
        {
          "output_type": "stream",
          "name": "stdout",
          "text": [
            "[[173680  93796]\n",
            " [ 30877 236295]]\n",
            "[[43297 23382]\n",
            " [ 7757 59226]]\n"
          ]
        }
      ]
    },
    {
      "cell_type": "code",
      "metadata": {
        "colab": {
          "base_uri": "https://localhost:8080/"
        },
        "id": "jttm47DTtRGh",
        "outputId": "71e6bb61-8491-42df-d2d5-273bdbe526b4"
      },
      "source": [
        "train_acc_mn = accuracy_score(y_train_sm, train_preds_mn)\n",
        "print(\"Train Accuracy: {:.2f}%\".format(train_acc_nb * 100))\n",
        "\n",
        "test_acc_mn = accuracy_score(y_test_sm, test_preds_mn)\n",
        "print(\"Test Accuracy: {:.2f}%\".format(test_acc_nb * 100))\n",
        "\n",
        "\n",
        "\n",
        "mn_precision = precision_score(y_test_sm, test_preds_mn)\n",
        "mn_recall = recall_score(y_test_sm, test_preds_mn)\n",
        "print(\"Precision:\",(mn_precision))\n",
        "print(\"Recall:\",(mn_recall))"
      ],
      "execution_count": 139,
      "outputs": [
        {
          "output_type": "stream",
          "name": "stdout",
          "text": [
            "Train Accuracy: 78.39%\n",
            "Test Accuracy: 78.43%\n",
            "Precision: 0.716952353282975\n",
            "Recall: 0.8841944971112073\n"
          ]
        }
      ]
    },
    {
      "cell_type": "code",
      "metadata": {
        "colab": {
          "base_uri": "https://localhost:8080/"
        },
        "id": "zjjRRL_oV2na",
        "outputId": "128c7810-050e-4023-dbdb-ce5e069963cd"
      },
      "source": [
        "print(\"Train Report\")\n",
        "print(classification_report(y_train_sm,train_preds_mn))\n",
        "print(\"\\n Test Report\")\n",
        "print(classification_report(y_test_sm,test_preds_mn))\n",
        "\n",
        "train_pred_proba_mn = MN_model.predict_proba(x_train_sm)[:,1]\n",
        "mn_auc_train = roc_auc_score(y_train_sm, train_pred_proba_mn)\n",
        "print(\"Train AUC:\" , mn_auc_train )\n",
        "\n",
        "test_pred_proba_mn = MN_model.predict_proba(x_test_sm)[:,1]\n",
        "mn_auc_test = roc_auc_score(y_test_sm, test_pred_proba_mn)\n",
        "print(\"Test AUC:\" , mn_auc_test )"
      ],
      "execution_count": 49,
      "outputs": [
        {
          "output_type": "stream",
          "name": "stdout",
          "text": [
            "Train Report\n",
            "              precision    recall  f1-score   support\n",
            "\n",
            "           0       0.85      0.65      0.74    267476\n",
            "           1       0.72      0.88      0.79    267172\n",
            "\n",
            "    accuracy                           0.77    534648\n",
            "   macro avg       0.78      0.77      0.76    534648\n",
            "weighted avg       0.78      0.77      0.76    534648\n",
            "\n",
            "\n",
            " Test Report\n",
            "              precision    recall  f1-score   support\n",
            "\n",
            "           0       0.85      0.65      0.74     66679\n",
            "           1       0.72      0.88      0.79     66983\n",
            "\n",
            "    accuracy                           0.77    133662\n",
            "   macro avg       0.78      0.77      0.76    133662\n",
            "weighted avg       0.78      0.77      0.76    133662\n",
            "\n",
            "Train AUC: 0.8005572698757226\n",
            "Test AUC: 0.8013942061672266\n"
          ]
        }
      ]
    },
    {
      "cell_type": "markdown",
      "metadata": {
        "id": "3yzyvGWuYmCQ"
      },
      "source": [
        "### 3. BernoulliNB classifier"
      ]
    },
    {
      "cell_type": "code",
      "metadata": {
        "id": "HZMsTuKgXUkB"
      },
      "source": [
        " from sklearn.naive_bayes import BernoulliNB\n",
        "BN_model = BernoulliNB().fit(x_train_sm,y_train_sm)\n"
      ],
      "execution_count": 50,
      "outputs": []
    },
    {
      "cell_type": "code",
      "metadata": {
        "id": "NrlLrpGUXfIC"
      },
      "source": [
        "train_preds_bn = BN_model.predict(x_train_sm)\n",
        "test_preds_bn = BN_model.predict(x_test_sm)"
      ],
      "execution_count": 51,
      "outputs": []
    },
    {
      "cell_type": "code",
      "metadata": {
        "colab": {
          "base_uri": "https://localhost:8080/"
        },
        "id": "b222LXQlXnQa",
        "outputId": "9243c171-33a7-4d71-ce09-8406d85a3f7c"
      },
      "source": [
        "print(confusion_matrix(y_train_sm,train_preds_bn))\n",
        "print(confusion_matrix(y_test_sm,test_preds_bn))"
      ],
      "execution_count": 52,
      "outputs": [
        {
          "output_type": "stream",
          "name": "stdout",
          "text": [
            "[[162857 104619]\n",
            " [  7744 259428]]\n",
            "[[40609 26070]\n",
            " [ 1977 65006]]\n"
          ]
        }
      ]
    },
    {
      "cell_type": "code",
      "metadata": {
        "colab": {
          "base_uri": "https://localhost:8080/"
        },
        "id": "H0o_90dQtcok",
        "outputId": "6c0ee936-202b-4dee-8c72-565595aa08bf"
      },
      "source": [
        "train_acc_bn = accuracy_score(y_train_sm, train_preds_bn)\n",
        "print(\"Train Accuracy: {:.2f}%\".format(train_acc_nb * 100))\n",
        "\n",
        "test_acc_bn = accuracy_score(y_test_sm, test_preds_bn)\n",
        "print(\"Test Accuracy: {:.2f}%\".format(test_acc_nb * 100))\n",
        "\n",
        "\n",
        "\n",
        "bn_precision = precision_score(y_test_sm, test_preds_bn)\n",
        "bn_recall = recall_score(y_test_sm, test_preds_bn)\n",
        "print(\"Precision:\",(bn_precision))\n",
        "print(\"Recall:\",(bn_recall))"
      ],
      "execution_count": 140,
      "outputs": [
        {
          "output_type": "stream",
          "name": "stdout",
          "text": [
            "Train Accuracy: 78.39%\n",
            "Test Accuracy: 78.43%\n",
            "Precision: 0.713755544819711\n",
            "Recall: 0.9704850484451278\n"
          ]
        }
      ]
    },
    {
      "cell_type": "code",
      "metadata": {
        "colab": {
          "base_uri": "https://localhost:8080/"
        },
        "id": "_Gq_ozr3XnM6",
        "outputId": "f4186b71-a6bf-45c3-d95f-7cf1adfd3b0c"
      },
      "source": [
        "print(\"Train Report\")\n",
        "print(classification_report(y_train_sm,train_preds_bn))\n",
        "print(\"\\n Test Report\")\n",
        "print(classification_report(y_test_sm,test_preds_bn))\n",
        "\n",
        "train_pred_proba_bn = BN_model.predict_proba(x_train_sm)[:,1]\n",
        "bn_auc_train = roc_auc_score(y_train_sm, train_pred_proba_bn)\n",
        "print(\"Train AUC:\" , bn_auc_train )\n",
        "\n",
        "test_pred_proba_bn = BN_model.predict_proba(x_test_sm)[:,1]\n",
        "bn_auc_test = roc_auc_score(y_test_sm, test_pred_proba_bn)\n",
        "print(\"Test AUC:\" , bn_auc_test )"
      ],
      "execution_count": 53,
      "outputs": [
        {
          "output_type": "stream",
          "name": "stdout",
          "text": [
            "Train Report\n",
            "              precision    recall  f1-score   support\n",
            "\n",
            "           0       0.95      0.61      0.74    267476\n",
            "           1       0.71      0.97      0.82    267172\n",
            "\n",
            "    accuracy                           0.79    534648\n",
            "   macro avg       0.83      0.79      0.78    534648\n",
            "weighted avg       0.83      0.79      0.78    534648\n",
            "\n",
            "\n",
            " Test Report\n",
            "              precision    recall  f1-score   support\n",
            "\n",
            "           0       0.95      0.61      0.74     66679\n",
            "           1       0.71      0.97      0.82     66983\n",
            "\n",
            "    accuracy                           0.79    133662\n",
            "   macro avg       0.83      0.79      0.78    133662\n",
            "weighted avg       0.83      0.79      0.78    133662\n",
            "\n",
            "Train AUC: 0.8285408511453615\n",
            "Test AUC: 0.827154000605554\n"
          ]
        }
      ]
    },
    {
      "cell_type": "markdown",
      "metadata": {
        "id": "0Q--zIVYZT6x"
      },
      "source": [
        "#Conclusion:"
      ]
    },
    {
      "cell_type": "markdown",
      "metadata": {
        "id": "gWtvfFS6l-L4"
      },
      "source": [
        "###Let's summarise the results from all the models trained."
      ]
    },
    {
      "cell_type": "code",
      "metadata": {
        "colab": {
          "base_uri": "https://localhost:8080/",
          "height": 238
        },
        "id": "dkoJamyJmQz5",
        "outputId": "7269ff57-0f74-460a-b0fd-547bc60a1a28"
      },
      "source": [
        "Results = pd.DataFrame()\n",
        "Results['Model Name'] = ['Logistic Regression','RandomForest Classifier','XGBClassifier','GaussianNB Classifier',\n",
        "                         'Multinomial Classifier','BernoulliNB Classifier']\n",
        "Results['Precision'] = [lr_precision,rf_precision,xgb_precision,nb_precision,mn_precision,bn_precision]\n",
        "Results['Recall'] = [lr_recall,rf_recall,xgb_recall,nb_recall,mn_recall,bn_recall]\n",
        "Results['Train Accuracy'] = [train_acc,train_accuracy,train_acc_xgb,train_acc_nb,train_acc_mn,train_acc_bn]\n",
        "Results['Test Accuracy'] = [test_acc,test_accuracy,test_acc_xgb,test_acc_nb,test_acc_mn,test_acc_bn]\n",
        "Results['Train ROC-AUC'] = [lr_train_auc,train_auc,xgb_auc_train,nb_auc_train,mn_auc_train,bn_auc_train] \n",
        "Results['Test ROC-AUC'] = [lr_test_auc,test_auc,xgb_auc_test,nb_auc_test,mn_auc_test,bn_auc_test]\n",
        "Results"
      ],
      "execution_count": 179,
      "outputs": [
        {
          "output_type": "execute_result",
          "data": {
            "text/html": [
              "<div>\n",
              "<style scoped>\n",
              "    .dataframe tbody tr th:only-of-type {\n",
              "        vertical-align: middle;\n",
              "    }\n",
              "\n",
              "    .dataframe tbody tr th {\n",
              "        vertical-align: top;\n",
              "    }\n",
              "\n",
              "    .dataframe thead th {\n",
              "        text-align: right;\n",
              "    }\n",
              "</style>\n",
              "<table border=\"1\" class=\"dataframe\">\n",
              "  <thead>\n",
              "    <tr style=\"text-align: right;\">\n",
              "      <th></th>\n",
              "      <th>Model Name</th>\n",
              "      <th>Precision</th>\n",
              "      <th>Recall</th>\n",
              "      <th>Train Accuracy</th>\n",
              "      <th>Test Accuracy</th>\n",
              "      <th>Train ROC-AUC</th>\n",
              "      <th>Test ROC-AUC</th>\n",
              "    </tr>\n",
              "  </thead>\n",
              "  <tbody>\n",
              "    <tr>\n",
              "      <th>0</th>\n",
              "      <td>Logistic Regression</td>\n",
              "      <td>0.711132</td>\n",
              "      <td>0.972396</td>\n",
              "      <td>0.787801</td>\n",
              "      <td>0.788220</td>\n",
              "      <td>0.813540</td>\n",
              "      <td>0.814463</td>\n",
              "    </tr>\n",
              "    <tr>\n",
              "      <th>1</th>\n",
              "      <td>RandomForest Classifier</td>\n",
              "      <td>0.740192</td>\n",
              "      <td>0.964140</td>\n",
              "      <td>0.812439</td>\n",
              "      <td>0.812437</td>\n",
              "      <td>0.882025</td>\n",
              "      <td>0.880653</td>\n",
              "    </tr>\n",
              "    <tr>\n",
              "      <th>2</th>\n",
              "      <td>XGBClassifier</td>\n",
              "      <td>0.818496</td>\n",
              "      <td>0.939432</td>\n",
              "      <td>0.868654</td>\n",
              "      <td>0.865250</td>\n",
              "      <td>0.959739</td>\n",
              "      <td>0.957338</td>\n",
              "    </tr>\n",
              "    <tr>\n",
              "      <th>3</th>\n",
              "      <td>GaussianNB Classifier</td>\n",
              "      <td>0.705790</td>\n",
              "      <td>0.976651</td>\n",
              "      <td>0.783852</td>\n",
              "      <td>0.784277</td>\n",
              "      <td>0.826447</td>\n",
              "      <td>0.826927</td>\n",
              "    </tr>\n",
              "    <tr>\n",
              "      <th>4</th>\n",
              "      <td>Multinomial Classifier</td>\n",
              "      <td>0.716952</td>\n",
              "      <td>0.884194</td>\n",
              "      <td>0.766813</td>\n",
              "      <td>0.767032</td>\n",
              "      <td>0.800557</td>\n",
              "      <td>0.801394</td>\n",
              "    </tr>\n",
              "    <tr>\n",
              "      <th>5</th>\n",
              "      <td>BernoulliNB Classifier</td>\n",
              "      <td>0.713756</td>\n",
              "      <td>0.970485</td>\n",
              "      <td>0.789837</td>\n",
              "      <td>0.790165</td>\n",
              "      <td>0.828541</td>\n",
              "      <td>0.827154</td>\n",
              "    </tr>\n",
              "  </tbody>\n",
              "</table>\n",
              "</div>"
            ],
            "text/plain": [
              "                Model Name  Precision  ...  Train ROC-AUC  Test ROC-AUC\n",
              "0      Logistic Regression   0.711132  ...       0.813540      0.814463\n",
              "1  RandomForest Classifier   0.740192  ...       0.882025      0.880653\n",
              "2            XGBClassifier   0.818496  ...       0.959739      0.957338\n",
              "3    GaussianNB Classifier   0.705790  ...       0.826447      0.826927\n",
              "4   Multinomial Classifier   0.716952  ...       0.800557      0.801394\n",
              "5   BernoulliNB Classifier   0.713756  ...       0.828541      0.827154\n",
              "\n",
              "[6 rows x 7 columns]"
            ]
          },
          "metadata": {},
          "execution_count": 179
        }
      ]
    },
    {
      "cell_type": "markdown",
      "metadata": {
        "id": "xzhVJ05pYPLk"
      },
      "source": [
        "* **Some important inferences have been made from the EDA and have been incurred below every visualization.**\n",
        "\n",
        "* **After training the models and comparing the results, it can be said that the XGBoost Classifier model has performed better than the other models.**\n",
        "\n",
        "* **Vehicle damage and previously insured came out as the most important features for the model.**\n"
      ]
    }
  ]
}